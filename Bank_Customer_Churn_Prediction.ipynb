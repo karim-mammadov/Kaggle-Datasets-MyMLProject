{
  "nbformat": 4,
  "nbformat_minor": 0,
  "metadata": {
    "colab": {
      "provenance": [],
      "authorship_tag": "ABX9TyN2LwzxEJgUjNQkUq5v5hhm",
      "include_colab_link": true
    },
    "kernelspec": {
      "name": "python3",
      "display_name": "Python 3"
    },
    "language_info": {
      "name": "python"
    }
  },
  "cells": [
    {
      "cell_type": "markdown",
      "metadata": {
        "id": "view-in-github",
        "colab_type": "text"
      },
      "source": [
        "<a href=\"https://colab.research.google.com/github/karim-mammadov/Kaggle-Datasets-MyMLProject/blob/main/Bank_Customer_Churn_Prediction.ipynb\" target=\"_parent\"><img src=\"https://colab.research.google.com/assets/colab-badge.svg\" alt=\"Open In Colab\"/></a>"
      ]
    },
    {
      "cell_type": "code",
      "execution_count": null,
      "metadata": {
        "id": "G-5dPq8jQ8SC"
      },
      "outputs": [],
      "source": [
        "from google.colab import files\n",
        "files.upload()"
      ]
    },
    {
      "cell_type": "code",
      "source": [
        "!mkdir -p ~/.kaggle\n",
        "!cp kaggle.json ~/.kaggle/\n",
        "!chmod 600 ~/.kaggle/kaggle.json"
      ],
      "metadata": {
        "id": "hvi7Z7kqRFJH"
      },
      "execution_count": null,
      "outputs": []
    },
    {
      "cell_type": "code",
      "source": [
        "!kaggle datasets download -d shantanudhakadd/bank-customer-churn-prediction"
      ],
      "metadata": {
        "id": "7K2KD8xDRI4V"
      },
      "execution_count": null,
      "outputs": []
    },
    {
      "cell_type": "code",
      "source": [
        "import zipfile"
      ],
      "metadata": {
        "id": "jg0tXjxURMGe"
      },
      "execution_count": null,
      "outputs": []
    },
    {
      "cell_type": "code",
      "source": [
        "with zipfile.ZipFile('/content/bank-customer-churn-prediction.zip', 'r') as zip_ref:\n",
        "    zip_ref.extractall()"
      ],
      "metadata": {
        "id": "QbsVph-LRPhk"
      },
      "execution_count": null,
      "outputs": []
    },
    {
      "cell_type": "code",
      "source": [
        "import pandas as pd"
      ],
      "metadata": {
        "id": "2BhOeuLfSLZV"
      },
      "execution_count": null,
      "outputs": []
    },
    {
      "cell_type": "markdown",
      "source": [
        "# DATA CLEANING and DATA VISUALIZATION"
      ],
      "metadata": {
        "id": "KdgCV6OOrQhi"
      }
    },
    {
      "cell_type": "code",
      "source": [
        "df = pd.read_csv('/content/Churn_Modelling.csv')\n",
        "df"
      ],
      "metadata": {
        "id": "eQDThD7vSM3U"
      },
      "execution_count": null,
      "outputs": []
    },
    {
      "cell_type": "code",
      "source": [
        "df.isnull().sum()"
      ],
      "metadata": {
        "id": "zYR-Trk-SmZO"
      },
      "execution_count": null,
      "outputs": []
    },
    {
      "cell_type": "code",
      "source": [
        "df.isna().sum()"
      ],
      "metadata": {
        "id": "uITgKFFeSRrK"
      },
      "execution_count": null,
      "outputs": []
    },
    {
      "cell_type": "code",
      "source": [
        "df.duplicated().sum()"
      ],
      "metadata": {
        "id": "c4AYIgS5SV7T"
      },
      "execution_count": null,
      "outputs": []
    },
    {
      "cell_type": "code",
      "source": [
        "df.info()"
      ],
      "metadata": {
        "id": "ccRexNlxSaq7"
      },
      "execution_count": null,
      "outputs": []
    },
    {
      "cell_type": "code",
      "source": [
        "df.describe()"
      ],
      "metadata": {
        "id": "MIcs4L0MSdmY"
      },
      "execution_count": null,
      "outputs": []
    },
    {
      "cell_type": "code",
      "source": [
        "df.drop(['RowNumber', 'CustomerId', 'Surname'], axis=1, inplace=True)"
      ],
      "metadata": {
        "id": "WxLFeBtnSi1n"
      },
      "execution_count": null,
      "outputs": []
    },
    {
      "cell_type": "code",
      "source": [
        "df['BalanceSalaryRatio'] = df['Balance'] / df['EstimatedSalary']"
      ],
      "metadata": {
        "id": "9pm3FXC0USIa"
      },
      "execution_count": null,
      "outputs": []
    },
    {
      "cell_type": "code",
      "source": [
        "# from sklearn.preprocessing import LabelEncoder\n",
        "# le = LabelEncoder()\n",
        "# df['Gender'] = le.fit_transform(df['Gender'])\n",
        "# df['Geography'] = le.fit_transform(df['Geography'])"
      ],
      "metadata": {
        "id": "5ynI3ip2TGHo"
      },
      "execution_count": null,
      "outputs": []
    },
    {
      "cell_type": "code",
      "source": [
        "import seaborn as sns\n",
        "sns.countplot(x='Exited', data=df);"
      ],
      "metadata": {
        "id": "koyI9iOCToPs"
      },
      "execution_count": null,
      "outputs": []
    },
    {
      "cell_type": "code",
      "source": [
        "sns.countplot(x='Geography', hue='Exited', data=df);"
      ],
      "metadata": {
        "id": "pLZju5mbTpWL"
      },
      "execution_count": null,
      "outputs": []
    },
    {
      "cell_type": "code",
      "source": [
        "sns.boxplot(x='Exited', y='Age', data=df);"
      ],
      "metadata": {
        "id": "J0iuJHBiTtbv"
      },
      "execution_count": null,
      "outputs": []
    },
    {
      "cell_type": "code",
      "source": [
        "sns.histplot(data=df, x='CreditScore', hue='Exited', kde=True)\n",
        "sns.histplot(data=df, x='Balance', hue='Exited', kde=True);"
      ],
      "metadata": {
        "id": "cwVGaH0QTwBp"
      },
      "execution_count": null,
      "outputs": []
    },
    {
      "cell_type": "code",
      "source": [
        "import matplotlib.pyplot as plt\n",
        "df_corr = df.corr(numeric_only=True)\n",
        "df_corr\n",
        "\n",
        "plt.figure(figsize=(7,7))\n",
        "sns.heatmap(df_corr, annot=True);"
      ],
      "metadata": {
        "id": "eVHO_sLIT011"
      },
      "execution_count": null,
      "outputs": []
    },
    {
      "cell_type": "markdown",
      "source": [
        "# Build a Model"
      ],
      "metadata": {
        "id": "D2T1F-54rVYV"
      }
    },
    {
      "cell_type": "code",
      "source": [
        "import numpy as np\n",
        "from sklearn.model_selection import train_test_split\n",
        "from sklearn.pipeline import Pipeline\n",
        "from sklearn.compose import ColumnTransformer\n",
        "from sklearn.preprocessing import StandardScaler, OneHotEncoder\n",
        "from sklearn.impute import SimpleImputer\n",
        "from sklearn.ensemble import RandomForestClassifier, GradientBoostingClassifier\n",
        "from sklearn.linear_model import LogisticRegression\n",
        "from sklearn.tree import DecisionTreeClassifier\n",
        "from sklearn.neighbors import KNeighborsClassifier\n",
        "from sklearn.svm import SVC"
      ],
      "metadata": {
        "id": "taWJSaNeT6u4"
      },
      "execution_count": null,
      "outputs": []
    },
    {
      "cell_type": "code",
      "source": [
        "X = df.drop('Exited', axis=1)\n",
        "y = df['Exited'].copy()"
      ],
      "metadata": {
        "id": "QkKSyg7PVyvK"
      },
      "execution_count": null,
      "outputs": []
    },
    {
      "cell_type": "code",
      "source": [
        "X_train, X_test, y_train, y_test = train_test_split(X, y, test_size=0.2, random_state=42)"
      ],
      "metadata": {
        "id": "Ywh3OALHV7df"
      },
      "execution_count": null,
      "outputs": []
    },
    {
      "cell_type": "code",
      "source": [
        "num_features = X_train.select_dtypes(include=[np.number]).columns.tolist()\n",
        "cat_features = X_train.select_dtypes(exclude=[np.number]).columns.tolist()"
      ],
      "metadata": {
        "id": "4DrLq0LTVIsx"
      },
      "execution_count": null,
      "outputs": []
    },
    {
      "cell_type": "code",
      "source": [
        "num_pipeline = Pipeline(steps=[\n",
        "    ('imputer', SimpleImputer(strategy='mean')),\n",
        "    ('scaler', StandardScaler())\n",
        "])\n",
        "\n",
        "cat_pipeline = Pipeline(steps=[\n",
        "    ('encoder', OneHotEncoder(handle_unknown='ignore'))\n",
        "])\n",
        "\n",
        "transformer = ColumnTransformer(transformers=[\n",
        "    ('num', num_pipeline, num_features),\n",
        "    ('cat', cat_pipeline, cat_features)\n",
        "])\n",
        "\n",
        "full_pipeline_1 = Pipeline(steps=[\n",
        "    ('transformer', transformer),\n",
        "    ('classifier', LogisticRegression(max_iter=1000))\n",
        "])"
      ],
      "metadata": {
        "id": "nwvdVEmaVMoM"
      },
      "execution_count": null,
      "outputs": []
    },
    {
      "cell_type": "code",
      "source": [
        "full_pipeline_1.fit(X_train,y_train)"
      ],
      "metadata": {
        "id": "gNn8oo3CXbRC"
      },
      "execution_count": null,
      "outputs": []
    },
    {
      "cell_type": "code",
      "source": [
        "full_pipeline_1.score(X_train, y_train), full_pipeline_1.score(X_test, y_test)"
      ],
      "metadata": {
        "id": "l7YWUeAyXfco"
      },
      "execution_count": null,
      "outputs": []
    },
    {
      "cell_type": "code",
      "source": [
        "estimator = DecisionTreeClassifier(random_state=42, min_samples_leaf=2, max_depth=10)\n",
        "\n",
        "full_pipeline_2 = Pipeline(steps=[\n",
        "    ('transformer', transformer),\n",
        "    ('estimator', DecisionTreeClassifier(random_state=42, min_samples_leaf=1, max_depth=8))\n",
        "])"
      ],
      "metadata": {
        "id": "GKMxri3zXorR"
      },
      "execution_count": null,
      "outputs": []
    },
    {
      "cell_type": "code",
      "source": [
        "full_pipeline_2.fit(X_train,y_train)"
      ],
      "metadata": {
        "id": "XxcCPHzoX4j0"
      },
      "execution_count": null,
      "outputs": []
    },
    {
      "cell_type": "code",
      "source": [
        "full_pipeline_2.score(X_train, y_train), full_pipeline_2.score(X_test, y_test)"
      ],
      "metadata": {
        "id": "FM-QguC6YCn8"
      },
      "execution_count": null,
      "outputs": []
    },
    {
      "cell_type": "code",
      "source": [
        "estimator_2 = RandomForestClassifier(random_state=42, min_samples_leaf=2, max_depth=10)\n",
        "\n",
        "full_pipeline_3 = Pipeline(steps=[\n",
        "    ('transformer', transformer),\n",
        "    ('estimator_2', RandomForestClassifier(random_state=42, min_samples_leaf=1, max_depth=8))\n",
        "])"
      ],
      "metadata": {
        "id": "7UGIHd8eZHaW"
      },
      "execution_count": null,
      "outputs": []
    },
    {
      "cell_type": "code",
      "source": [
        "full_pipeline_3.fit(X_train, y_train)"
      ],
      "metadata": {
        "id": "vWksij50ZdE5"
      },
      "execution_count": null,
      "outputs": []
    },
    {
      "cell_type": "code",
      "source": [
        "full_pipeline_3.score(X_train, y_train), full_pipeline_3.score(X_test, y_test)"
      ],
      "metadata": {
        "id": "UZ5fgaY4ZfSW"
      },
      "execution_count": null,
      "outputs": []
    },
    {
      "cell_type": "code",
      "source": [
        "estimator_3 = LogisticRegression(max_iter= 1000)\n",
        "\n",
        "full_pipeline_4 = Pipeline(steps=[\n",
        "    ('transformer', transformer),\n",
        "    ('estimator_3', LogisticRegression(max_iter= 1000))\n",
        "])"
      ],
      "metadata": {
        "id": "s9djUWNnZob8"
      },
      "execution_count": null,
      "outputs": []
    },
    {
      "cell_type": "code",
      "source": [
        "full_pipeline_4.fit(X_train, y_train)"
      ],
      "metadata": {
        "id": "sxYL3zKDZ08H"
      },
      "execution_count": null,
      "outputs": []
    },
    {
      "cell_type": "code",
      "source": [
        "full_pipeline_4.score(X_train, y_train), full_pipeline_4.score(X_test, y_test)"
      ],
      "metadata": {
        "id": "8Cloa9JwZ4qH"
      },
      "execution_count": null,
      "outputs": []
    },
    {
      "cell_type": "code",
      "source": [
        "estimator_4 = GradientBoostingClassifier(random_state=42)\n",
        "\n",
        "full_pipeline_5 = Pipeline(steps=[\n",
        "    ('transformer', transformer),\n",
        "    ('estimator_4', GradientBoostingClassifier(random_state=42))\n",
        "])"
      ],
      "metadata": {
        "id": "Mld45UJ1Z7Tk"
      },
      "execution_count": null,
      "outputs": []
    },
    {
      "cell_type": "code",
      "source": [
        "full_pipeline_5.fit(X_train, y_train)"
      ],
      "metadata": {
        "id": "7Z46e3TKZ_jv"
      },
      "execution_count": null,
      "outputs": []
    },
    {
      "cell_type": "code",
      "source": [
        "full_pipeline_5.score(X_train, y_train), full_pipeline_5.score(X_test, y_test)"
      ],
      "metadata": {
        "id": "nzB-1I8faBoI"
      },
      "execution_count": null,
      "outputs": []
    },
    {
      "cell_type": "code",
      "source": [],
      "metadata": {
        "id": "kVYnWmbRaHWq"
      },
      "execution_count": null,
      "outputs": []
    }
  ]
}