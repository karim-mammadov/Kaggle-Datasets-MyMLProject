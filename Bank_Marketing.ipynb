{
  "nbformat": 4,
  "nbformat_minor": 0,
  "metadata": {
    "colab": {
      "provenance": [],
      "authorship_tag": "ABX9TyO+WYBkf58h4njcYy7mMcQJ",
      "include_colab_link": true
    },
    "kernelspec": {
      "name": "python3",
      "display_name": "Python 3"
    },
    "language_info": {
      "name": "python"
    }
  },
  "cells": [
    {
      "cell_type": "markdown",
      "metadata": {
        "id": "view-in-github",
        "colab_type": "text"
      },
      "source": [
        "<a href=\"https://colab.research.google.com/github/karim-mammadov/Kaggle-Datasets-MyMLProject/blob/main/Bank_Marketing.ipynb\" target=\"_parent\"><img src=\"https://colab.research.google.com/assets/colab-badge.svg\" alt=\"Open In Colab\"/></a>"
      ]
    },
    {
      "cell_type": "code",
      "execution_count": null,
      "metadata": {
        "id": "q2DFw-lU1vaC"
      },
      "outputs": [],
      "source": [
        "from google.colab import files\n",
        "files.upload()"
      ]
    },
    {
      "cell_type": "code",
      "source": [
        "!mkdir -p ~/.kaggle\n",
        "!cp kaggle.json ~/.kaggle/\n",
        "!chmod 600 ~/.kaggle/kaggle.json"
      ],
      "metadata": {
        "id": "GwC_3YzD1wKr"
      },
      "execution_count": null,
      "outputs": []
    },
    {
      "cell_type": "code",
      "source": [
        "!kaggle datasets download -d henriqueyamahata/bank-marketing"
      ],
      "metadata": {
        "id": "gAr8QwNM10V5"
      },
      "execution_count": null,
      "outputs": []
    },
    {
      "cell_type": "code",
      "source": [
        "import zipfile"
      ],
      "metadata": {
        "id": "1tSEvgD614rJ"
      },
      "execution_count": null,
      "outputs": []
    },
    {
      "cell_type": "code",
      "source": [
        "with zipfile.ZipFile('/content/bank-marketing.zip', 'r') as zip_ref:\n",
        "    zip_ref.extractall()"
      ],
      "metadata": {
        "id": "lK8Zq_wd18AE"
      },
      "execution_count": null,
      "outputs": []
    },
    {
      "cell_type": "code",
      "source": [
        "import pandas as pd\n",
        "import numpy as np\n",
        "import matplotlib.pyplot as plt\n",
        "import seaborn as sns"
      ],
      "metadata": {
        "id": "5H8OMAfB2oQt"
      },
      "execution_count": null,
      "outputs": []
    },
    {
      "cell_type": "markdown",
      "source": [
        "# DATA VISUALIZATION"
      ],
      "metadata": {
        "id": "C7e3Xh9NqaTE"
      }
    },
    {
      "cell_type": "code",
      "source": [
        "pd.set_option('display.max_columns', None)"
      ],
      "metadata": {
        "id": "wZU2fRHappuX"
      },
      "execution_count": null,
      "outputs": []
    },
    {
      "cell_type": "code",
      "source": [
        "df=pd.read_csv('/content/bank-additional-full.csv', sep=';')\n",
        "df"
      ],
      "metadata": {
        "id": "ExAU6BOb3H5M"
      },
      "execution_count": null,
      "outputs": []
    },
    {
      "cell_type": "code",
      "source": [
        "sns.countplot(x='y', data=df)\n",
        "plt.title('Target Variable Distribution (Yes/No)')\n",
        "plt.show()"
      ],
      "metadata": {
        "id": "ZW-QFcpip33B"
      },
      "execution_count": null,
      "outputs": []
    },
    {
      "cell_type": "code",
      "source": [
        "plt.figure(figsize=(12,6))\n",
        "sns.countplot(x='job', hue='y', data=df)\n",
        "plt.title('Job vs Target')\n",
        "plt.xticks(rotation=45)\n",
        "plt.show()"
      ],
      "metadata": {
        "id": "3rVUccAWp5pE"
      },
      "execution_count": null,
      "outputs": []
    },
    {
      "cell_type": "code",
      "source": [
        "sns.boxplot(x='y', y='age', data=df)\n",
        "plt.title('Age distribution by Target')\n",
        "plt.show()"
      ],
      "metadata": {
        "id": "Bej7Y4qhqAdr"
      },
      "execution_count": null,
      "outputs": []
    },
    {
      "cell_type": "code",
      "source": [
        "sns.countplot(x='month', hue='y', data=df, order=['jan','feb','mar','apr','may','jun','jul','aug','sep','oct','nov','dec'])\n",
        "plt.title('Month vs Target')\n",
        "plt.show()\n",
        "\n",
        "sns.countplot(x='day_of_week', hue='y', data=df)\n",
        "plt.title('Day of Week vs Target')\n",
        "plt.show()"
      ],
      "metadata": {
        "id": "RO8EC7dcqC7K"
      },
      "execution_count": null,
      "outputs": []
    },
    {
      "cell_type": "code",
      "source": [
        "sns.boxplot(x='y', y='emp.var.rate', data=df)\n",
        "plt.title('Employment Variation Rate by Target')\n",
        "plt.show()"
      ],
      "metadata": {
        "id": "pxCvLSJBqFsK"
      },
      "execution_count": null,
      "outputs": []
    },
    {
      "cell_type": "code",
      "source": [
        "sns.boxplot(x='y', y='campaign', data=df)\n",
        "plt.title('Number of Contacts (Campaign) by Target')\n",
        "plt.show()"
      ],
      "metadata": {
        "id": "2cHDpWtrqImF"
      },
      "execution_count": null,
      "outputs": []
    },
    {
      "cell_type": "code",
      "source": [
        "for col in ['default', 'housing', 'loan']:\n",
        "    plt.figure()\n",
        "    sns.countplot(x=col, hue='y', data=df)\n",
        "    plt.title(f'{col} vs Target')\n",
        "    plt.show()"
      ],
      "metadata": {
        "id": "fF_T5e7PqLG7"
      },
      "execution_count": null,
      "outputs": []
    },
    {
      "cell_type": "code",
      "source": [
        "df['age_group'] = pd.cut(df['age'], bins=[18,30,45,60,100], labels=['18-30','31-45','46-60','60+'])\n",
        "sns.countplot(x='age_group', hue='y', data=df)\n",
        "plt.title('Age Group vs Target')\n",
        "plt.show()"
      ],
      "metadata": {
        "id": "mJFnxOtZqO2j"
      },
      "execution_count": null,
      "outputs": []
    },
    {
      "cell_type": "code",
      "source": [
        "numeric_df = df.select_dtypes(include=[np.number])\n",
        "plt.figure(figsize=(12,10))\n",
        "sns.heatmap(numeric_df.corr(), annot=True, cmap='coolwarm')\n",
        "plt.title('Correlation Matrix (numeric features only)')\n",
        "plt.show()"
      ],
      "metadata": {
        "id": "qXGw8nYpqRfJ"
      },
      "execution_count": null,
      "outputs": []
    },
    {
      "cell_type": "markdown",
      "source": [
        "# DATA CLEANING"
      ],
      "metadata": {
        "id": "uWrPLjWfqgGo"
      }
    },
    {
      "cell_type": "code",
      "source": [
        "df.isna().sum()"
      ],
      "metadata": {
        "id": "hEzYR0UP3NUy"
      },
      "execution_count": null,
      "outputs": []
    },
    {
      "cell_type": "code",
      "source": [
        "df['y'].isna().sum()"
      ],
      "metadata": {
        "id": "CGctNjY8ARwc"
      },
      "execution_count": null,
      "outputs": []
    },
    {
      "cell_type": "code",
      "source": [
        "df.duplicated().sum()"
      ],
      "metadata": {
        "id": "8jyzY4aD5gIH"
      },
      "execution_count": null,
      "outputs": []
    },
    {
      "cell_type": "code",
      "source": [
        "df.drop_duplicates(inplace=True)"
      ],
      "metadata": {
        "id": "qcn9Mx1H5t7s"
      },
      "execution_count": null,
      "outputs": []
    },
    {
      "cell_type": "code",
      "source": [
        "df.info()"
      ],
      "metadata": {
        "id": "QNSNgMov541c"
      },
      "execution_count": null,
      "outputs": []
    },
    {
      "cell_type": "code",
      "source": [
        "df.describe()"
      ],
      "metadata": {
        "id": "K26CgCy057l4"
      },
      "execution_count": null,
      "outputs": []
    },
    {
      "cell_type": "code",
      "source": [
        "df.dtypes"
      ],
      "metadata": {
        "id": "GUXvt3F85_ds"
      },
      "execution_count": null,
      "outputs": []
    },
    {
      "cell_type": "code",
      "source": [
        "df.isnull().sum()"
      ],
      "metadata": {
        "id": "O6K8dF9U6BcL"
      },
      "execution_count": null,
      "outputs": []
    },
    {
      "cell_type": "markdown",
      "source": [
        "# Build a Model"
      ],
      "metadata": {
        "id": "uQp6j_RYpL7B"
      }
    },
    {
      "cell_type": "code",
      "source": [
        "from sklearn.model_selection import train_test_split\n",
        "from sklearn.preprocessing import OneHotEncoder, StandardScaler\n",
        "from sklearn.compose import ColumnTransformer\n",
        "from sklearn.pipeline import Pipeline\n",
        "from sklearn.impute import SimpleImputer\n",
        "from sklearn.linear_model import LogisticRegression\n",
        "from sklearn.tree import DecisionTreeClassifier\n",
        "from sklearn.ensemble import RandomForestClassifier\n",
        "from sklearn.metrics import accuracy_score"
      ],
      "metadata": {
        "id": "6wSgsZr76iay"
      },
      "execution_count": null,
      "outputs": []
    },
    {
      "cell_type": "code",
      "source": [
        "df['y'] = df['y'].map({'yes': 1, 'no': 0})"
      ],
      "metadata": {
        "id": "TlpQNvrh-vAj"
      },
      "execution_count": null,
      "outputs": []
    },
    {
      "cell_type": "code",
      "source": [
        "df['y']"
      ],
      "metadata": {
        "id": "I8LIljOCAhZg"
      },
      "execution_count": null,
      "outputs": []
    },
    {
      "cell_type": "code",
      "source": [
        "X = df.drop('y',axis=1)\n",
        "y = df['y'].copy()"
      ],
      "metadata": {
        "id": "y9wvWIHk8Fs1"
      },
      "execution_count": null,
      "outputs": []
    },
    {
      "cell_type": "code",
      "source": [
        "X_train, X_test, y_train, y_test = train_test_split(X,y,test_size=0.2,random_state=42)"
      ],
      "metadata": {
        "id": "7wpr4xGe7_6B"
      },
      "execution_count": null,
      "outputs": []
    },
    {
      "cell_type": "code",
      "source": [
        "import numpy as np"
      ],
      "metadata": {
        "id": "ktP-F56D8gqq"
      },
      "execution_count": null,
      "outputs": []
    },
    {
      "cell_type": "code",
      "source": [
        "num_feature= X_train.select_dtypes(include=[np.number]).columns\n",
        "cat_feature= X_train.select_dtypes(exclude=[np.number]).columns"
      ],
      "metadata": {
        "id": "QK-FjYf58ESG"
      },
      "execution_count": null,
      "outputs": []
    },
    {
      "cell_type": "code",
      "source": [
        "num_pipeline = Pipeline(steps=[\n",
        "    ('imputer', SimpleImputer(strategy='mean')),\n",
        "    ('scaler', StandardScaler())\n",
        "])\n",
        "\n",
        "\n",
        "cat_pipeline = Pipeline(steps=[\n",
        "    ('encoder', OneHotEncoder(handle_unknown='ignore'))\n",
        "])\n",
        "\n",
        "\n",
        "transformer = ColumnTransformer(\n",
        "    transformers=[\n",
        "        ('num', num_pipeline, num_feature),\n",
        "        ('cat', cat_pipeline, cat_feature)\n",
        "    ]\n",
        ")\n",
        "\n",
        "\n",
        "\n",
        "full_pipeline = Pipeline(steps=[\n",
        "    ('transformer', transformer),\n",
        "    ('classifier', LogisticRegression(max_iter=1000))\n",
        "])"
      ],
      "metadata": {
        "id": "g3dmhbp68fps"
      },
      "execution_count": null,
      "outputs": []
    },
    {
      "cell_type": "code",
      "source": [
        "full_pipeline.fit(X_train, y_train)"
      ],
      "metadata": {
        "id": "EXN90JMs_ugj"
      },
      "execution_count": null,
      "outputs": []
    },
    {
      "cell_type": "code",
      "source": [
        "full_pipeline.score(X_train, y_train), full_pipeline.score(X_test, y_test)"
      ],
      "metadata": {
        "id": "FUlwHqLl_zlE"
      },
      "execution_count": null,
      "outputs": []
    },
    {
      "cell_type": "code",
      "source": [
        "estimator = DecisionTreeClassifier(random_state=42, min_samples_leaf=2, max_depth=10)\n",
        "\n",
        "full_pipeline_1 = Pipeline(steps=[\n",
        "    ('transformer', transformer),\n",
        "    ('estimator', DecisionTreeClassifier(random_state=42, min_samples_leaf=1, max_depth=8))\n",
        "])"
      ],
      "metadata": {
        "id": "Vtc2r9BJBAVv"
      },
      "execution_count": null,
      "outputs": []
    },
    {
      "cell_type": "code",
      "source": [
        "full_pipeline_1.fit(X_train, y_train)"
      ],
      "metadata": {
        "id": "EaQT0VceBeAJ"
      },
      "execution_count": null,
      "outputs": []
    },
    {
      "cell_type": "code",
      "source": [
        "full_pipeline_1.score(X_train, y_train), full_pipeline_1.score(X_test, y_test)"
      ],
      "metadata": {
        "id": "4uJEw0s0BVLf"
      },
      "execution_count": null,
      "outputs": []
    },
    {
      "cell_type": "code",
      "source": [
        "estimator_1 = RandomForestClassifier(random_state=42, min_samples_leaf=3, max_depth=10, n_estimators=200)\n",
        "full_pipeline_2 = Pipeline(steps=[\n",
        "    ('transformer', transformer),\n",
        "    ('estimator1',estimator_1)\n",
        "])"
      ],
      "metadata": {
        "id": "LtldhjziBZUn"
      },
      "execution_count": null,
      "outputs": []
    },
    {
      "cell_type": "code",
      "source": [
        "full_pipeline_2.fit(X_train, y_train)"
      ],
      "metadata": {
        "id": "vIZMF3rOB12U"
      },
      "execution_count": null,
      "outputs": []
    },
    {
      "cell_type": "code",
      "source": [
        "full_pipeline_2.score(X_train, y_train), full_pipeline_2.score(X_test, y_test)"
      ],
      "metadata": {
        "id": "Q-OyIf-CCnPd"
      },
      "execution_count": null,
      "outputs": []
    },
    {
      "cell_type": "code",
      "source": [],
      "metadata": {
        "id": "0Zn9gmbgCqMP"
      },
      "execution_count": null,
      "outputs": []
    }
  ]
}