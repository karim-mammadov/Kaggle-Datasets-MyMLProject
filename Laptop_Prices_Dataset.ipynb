{
  "nbformat": 4,
  "nbformat_minor": 0,
  "metadata": {
    "colab": {
      "provenance": [],
      "authorship_tag": "ABX9TyNCpf8hLmCN631u0wMpKxvi",
      "include_colab_link": true
    },
    "kernelspec": {
      "name": "python3",
      "display_name": "Python 3"
    },
    "language_info": {
      "name": "python"
    }
  },
  "cells": [
    {
      "cell_type": "markdown",
      "metadata": {
        "id": "view-in-github",
        "colab_type": "text"
      },
      "source": [
        "<a href=\"https://colab.research.google.com/github/karim-mammadov/Kaggle-Datasets-MyMLProject/blob/main/Laptop_Prices_Dataset.ipynb\" target=\"_parent\"><img src=\"https://colab.research.google.com/assets/colab-badge.svg\" alt=\"Open In Colab\"/></a>"
      ]
    },
    {
      "cell_type": "code",
      "execution_count": null,
      "metadata": {
        "id": "Yu97GnLSb5qZ"
      },
      "outputs": [],
      "source": [
        "from google.colab import files\n",
        "files.upload()"
      ]
    },
    {
      "cell_type": "code",
      "source": [
        "!mkdir -p ~/.kaggle\n",
        "!cp kaggle.json ~/.kaggle/\n",
        "!chmod 600 ~/.kaggle/kaggle.json"
      ],
      "metadata": {
        "id": "XYER4bMKb_c2"
      },
      "execution_count": null,
      "outputs": []
    },
    {
      "cell_type": "code",
      "source": [
        "!kaggle datasets download anubhavgoyal10/laptop-prices-dataset"
      ],
      "metadata": {
        "id": "95f2vFs0cEVd"
      },
      "execution_count": null,
      "outputs": []
    },
    {
      "cell_type": "code",
      "source": [
        "import zipfile"
      ],
      "metadata": {
        "id": "XTvskH0ZcGcS"
      },
      "execution_count": null,
      "outputs": []
    },
    {
      "cell_type": "code",
      "source": [
        "with zipfile.ZipFile('/content/laptop-prices-dataset.zip', 'r') as zip_ref:\n",
        "    zip_ref.extractall()"
      ],
      "metadata": {
        "id": "Q3DGjrzZcJyb"
      },
      "execution_count": null,
      "outputs": []
    },
    {
      "cell_type": "code",
      "source": [
        "import pandas as pd\n",
        "import numpy as np\n",
        "import matplotlib.pyplot as plt\n",
        "import seaborn as sns"
      ],
      "metadata": {
        "id": "iXyq31TWcMGa"
      },
      "execution_count": null,
      "outputs": []
    },
    {
      "cell_type": "code",
      "source": [
        "df=pd.read_csv('/content/laptopPrice.csv')\n",
        "df"
      ],
      "metadata": {
        "id": "w2eZD9OGcY6-"
      },
      "execution_count": null,
      "outputs": []
    },
    {
      "cell_type": "markdown",
      "source": [
        "DATA CLEANING AND DATA VISUALIZATION"
      ],
      "metadata": {
        "id": "q0wAb9xzYi4k"
      }
    },
    {
      "cell_type": "code",
      "source": [
        "df.isna().sum()"
      ],
      "metadata": {
        "id": "N42_TPF_cQTZ"
      },
      "execution_count": null,
      "outputs": []
    },
    {
      "cell_type": "code",
      "source": [
        "df.duplicated().sum()"
      ],
      "metadata": {
        "id": "7WzSnQzncV3S"
      },
      "execution_count": null,
      "outputs": []
    },
    {
      "cell_type": "code",
      "source": [
        "df.drop_duplicates(inplace=True)"
      ],
      "metadata": {
        "id": "B53bR7kbcbok"
      },
      "execution_count": null,
      "outputs": []
    },
    {
      "cell_type": "code",
      "source": [
        "df.info()"
      ],
      "metadata": {
        "id": "AAgVDJFccegh"
      },
      "execution_count": null,
      "outputs": []
    },
    {
      "cell_type": "code",
      "source": [
        "df.describe()"
      ],
      "metadata": {
        "id": "T_Sbkzqicg19"
      },
      "execution_count": null,
      "outputs": []
    },
    {
      "cell_type": "code",
      "source": [
        "df.dtypes"
      ],
      "metadata": {
        "id": "SWL-JZiPcjp3"
      },
      "execution_count": null,
      "outputs": []
    },
    {
      "cell_type": "code",
      "source": [
        "numeric_cols = df.select_dtypes(include=['float64', 'int64']).columns\n",
        "\n",
        "for col in numeric_cols:\n",
        "    Q1 = df[col].quantile(0.25)\n",
        "    Q3 = df[col].quantile(0.75)\n",
        "    IQR = Q3 - Q1\n",
        "    outliers = df[(df[col] < Q1 - 1.5 * IQR) | (df[col] > Q3 + 1.5 * IQR)]\n",
        "    print(f\"{col} outlier sayi: {len(outliers)}\")"
      ],
      "metadata": {
        "id": "9P7_jp_scmvk"
      },
      "execution_count": null,
      "outputs": []
    },
    {
      "cell_type": "code",
      "source": [
        "def remove_outliers(df):\n",
        "  numeric_df = df.select_dtypes(include=['float64', 'int64'])\n",
        "  for column in numeric_df.columns:\n",
        "    Q1 = df[column].quantile(0.25)\n",
        "    Q3 = df[column].quantile(0.75)\n",
        "    IQR = Q3 - Q1\n",
        "\n",
        "    lower_bound = Q1 - 1.5 * IQR\n",
        "    upper_bound = Q3 + 1.5 * IQR\n",
        "\n",
        "    df = df[(df[column] >= lower_bound) & (df[column] <= upper_bound)]\n",
        "\n",
        "  return df"
      ],
      "metadata": {
        "id": "jNcySWBgdNTV"
      },
      "execution_count": null,
      "outputs": []
    },
    {
      "cell_type": "code",
      "source": [
        "plt.figure(figsize=(8, 5))\n",
        "os_order = df.groupby('os')['Price'].mean().sort_values(ascending=False).index\n",
        "sns.barplot(data=df, x='os', y='Price', hue='os', order=os_order, palette='Set2', legend=False)\n",
        "plt.title('Average Price by Operating System', fontsize=14)\n",
        "plt.xticks(rotation=0)\n",
        "plt.tight_layout()\n",
        "plt.show();"
      ],
      "metadata": {
        "id": "8vFxw8giaRQY"
      },
      "execution_count": null,
      "outputs": []
    },
    {
      "cell_type": "code",
      "source": [
        "plt.figure(figsize=(7, 5))\n",
        "sns.boxplot(data=df, x='ram_type', y='Price', hue='ram_type', palette='cubehelix', legend=False)\n",
        "plt.title('Price Distribution by RAM Type', fontsize=14)\n",
        "plt.tight_layout()\n",
        "plt.show();"
      ],
      "metadata": {
        "id": "cgzDWv7vbnZi"
      },
      "execution_count": null,
      "outputs": []
    },
    {
      "cell_type": "code",
      "source": [
        "plt.figure(figsize=(10, 6))\n",
        "\n",
        "unique_brands = df['brand'].unique()\n",
        "num_brands = len(unique_brands)\n",
        "palette = sns.color_palette(\"Set2\", num_brands)\n",
        "brand_order = df.groupby('brand')['Price'].mean().sort_values(ascending=False).index\n",
        "\n",
        "sns.barplot(x='brand', y='Price', hue='brand', data=df, palette=palette,\n",
        "            order=brand_order, dodge=False, legend=False)\n",
        "plt.xticks(rotation=45, ha='right', fontsize=10)\n",
        "plt.title(\"Brand-wise Average Price\", fontsize=16, fontweight='bold')\n",
        "plt.xlabel(\"Brand\", fontsize=12)\n",
        "plt.ylabel(\"Average Price\", fontsize=12)\n",
        "plt.grid(axis='y', linestyle='--', alpha=0.5)\n",
        "plt.tight_layout()\n",
        "plt.show();"
      ],
      "metadata": {
        "id": "R1w-RuFfYtLV"
      },
      "execution_count": null,
      "outputs": []
    },
    {
      "cell_type": "code",
      "source": [
        "df=remove_outliers(df)"
      ],
      "metadata": {
        "id": "TkmNkxJkdqKP"
      },
      "execution_count": null,
      "outputs": []
    },
    {
      "cell_type": "code",
      "source": [
        "df.head()"
      ],
      "metadata": {
        "id": "E0ancVAZd6Ay"
      },
      "execution_count": null,
      "outputs": []
    },
    {
      "cell_type": "code",
      "source": [
        "df['hdd']=df['hdd'].str.extract('(\\d+)').astype('int')"
      ],
      "metadata": {
        "id": "mg4BHjlod8jD"
      },
      "execution_count": null,
      "outputs": []
    },
    {
      "cell_type": "code",
      "source": [
        "df['hdd'].value_counts()"
      ],
      "metadata": {
        "id": "XH9JSdVpeCnx"
      },
      "execution_count": null,
      "outputs": []
    },
    {
      "cell_type": "code",
      "source": [
        "df['ram_gb']=df['ram_gb'].str.extract('(\\d+)').astype('int')"
      ],
      "metadata": {
        "id": "jXqOsOQoeRhl"
      },
      "execution_count": null,
      "outputs": []
    },
    {
      "cell_type": "code",
      "source": [
        "df['ram_gb'].value_counts()"
      ],
      "metadata": {
        "id": "9jki8oW3eTSy"
      },
      "execution_count": null,
      "outputs": []
    },
    {
      "cell_type": "code",
      "source": [
        "df['ssd']=df['ssd'].str.extract('(\\d+)').astype('int')"
      ],
      "metadata": {
        "id": "SURWu8PTeTPQ"
      },
      "execution_count": null,
      "outputs": []
    },
    {
      "cell_type": "code",
      "source": [
        "df['ssd'].value_counts()"
      ],
      "metadata": {
        "id": "LQEn9_sJeYs9"
      },
      "execution_count": null,
      "outputs": []
    },
    {
      "cell_type": "code",
      "source": [
        "df['os_bit']=df['os_bit'].str.extract('(\\d+)').astype('int')"
      ],
      "metadata": {
        "id": "zKXxj7GbecGn"
      },
      "execution_count": null,
      "outputs": []
    },
    {
      "cell_type": "code",
      "source": [
        "df['os_bit'].value_counts()"
      ],
      "metadata": {
        "id": "kbzU8zmRediR"
      },
      "execution_count": null,
      "outputs": []
    },
    {
      "cell_type": "code",
      "source": [
        "df['graphic_card_gb']=df['graphic_card_gb'].str.extract('(\\d+)').astype('int')"
      ],
      "metadata": {
        "id": "wRMLcfNMefUn"
      },
      "execution_count": null,
      "outputs": []
    },
    {
      "cell_type": "code",
      "source": [
        "df['graphic_card_gb'].value_counts()"
      ],
      "metadata": {
        "id": "AFvf4iwMehMJ"
      },
      "execution_count": null,
      "outputs": []
    },
    {
      "cell_type": "code",
      "source": [
        "df['rating']=df['rating'].str.extract('(\\d+)').astype('int')"
      ],
      "metadata": {
        "id": "2ksPDvpOeiy8"
      },
      "execution_count": null,
      "outputs": []
    },
    {
      "cell_type": "code",
      "source": [
        "df['rating'].value_counts()"
      ],
      "metadata": {
        "id": "qUqYLBLLekFG"
      },
      "execution_count": null,
      "outputs": []
    },
    {
      "cell_type": "code",
      "source": [
        "df['processor_gnrtn'] = df['processor_gnrtn'].str.replace('th', '', regex=False)"
      ],
      "metadata": {
        "id": "fO-w_Syseoxs"
      },
      "execution_count": null,
      "outputs": []
    },
    {
      "cell_type": "code",
      "source": [
        "df['processor_gnrtn'].dtype"
      ],
      "metadata": {
        "id": "rBV8nIjYet-n"
      },
      "execution_count": null,
      "outputs": []
    },
    {
      "cell_type": "code",
      "source": [
        "df['processor_gnrtn'].value_counts()"
      ],
      "metadata": {
        "id": "WDZH9IwnevBb"
      },
      "execution_count": null,
      "outputs": []
    },
    {
      "cell_type": "code",
      "source": [
        "# plt.pie(df['processor_gnrtn'].value_counts(), labels=df['processor_gnrtn'].unique(), autopct='%1.1f%%')\n",
        "# plt.show();"
      ],
      "metadata": {
        "id": "Oa_smKLQt9Q-"
      },
      "execution_count": 159,
      "outputs": []
    },
    {
      "cell_type": "code",
      "source": [
        "df.head()"
      ],
      "metadata": {
        "id": "IwIRfhXvezbp"
      },
      "execution_count": null,
      "outputs": []
    },
    {
      "cell_type": "code",
      "source": [
        "df.corr(numeric_only=True)"
      ],
      "metadata": {
        "id": "xbso4eCfe1oH"
      },
      "execution_count": null,
      "outputs": []
    },
    {
      "cell_type": "code",
      "source": [
        "sns.heatmap(df.corr(numeric_only=True), annot=True)"
      ],
      "metadata": {
        "id": "5YgzOxPqe7e9"
      },
      "execution_count": null,
      "outputs": []
    },
    {
      "cell_type": "markdown",
      "source": [
        "Build a Model"
      ],
      "metadata": {
        "id": "X2fw3LkWZlwL"
      }
    },
    {
      "cell_type": "code",
      "source": [
        "from sklearn.model_selection import train_test_split\n",
        "from sklearn.preprocessing import StandardScaler, OneHotEncoder,OrdinalEncoder\n",
        "from sklearn.pipeline import Pipeline\n",
        "from sklearn.impute import SimpleImputer\n",
        "from sklearn.compose import ColumnTransformer\n",
        "from sklearn.linear_model import LinearRegression\n",
        "from sklearn.tree import DecisionTreeRegressor\n",
        "from sklearn.ensemble import RandomForestRegressor\n",
        "from sklearn.metrics import mean_squared_error, r2_score"
      ],
      "metadata": {
        "id": "PcylizCTe-dA"
      },
      "execution_count": null,
      "outputs": []
    },
    {
      "cell_type": "code",
      "source": [
        "X=df.drop('Price', axis=1)\n",
        "y=df['Price'].copy()"
      ],
      "metadata": {
        "id": "TMygKIZffDKT"
      },
      "execution_count": null,
      "outputs": []
    },
    {
      "cell_type": "code",
      "source": [
        "X_train,X_test,y_train,y_test=train_test_split(X,y, test_size=0.2, random_state=42)"
      ],
      "metadata": {
        "id": "VOyFXL-dfO6f"
      },
      "execution_count": null,
      "outputs": []
    },
    {
      "cell_type": "code",
      "source": [
        "num_feature= X_train.select_dtypes(include=[np.number]).columns\n",
        "cat_feature= X_train.select_dtypes(exclude=[np.number]).columns"
      ],
      "metadata": {
        "id": "O2YpKCPQff80"
      },
      "execution_count": null,
      "outputs": []
    },
    {
      "cell_type": "code",
      "source": [
        "num_pipeline = Pipeline([\n",
        "    ('imputer', SimpleImputer(strategy='median')),\n",
        "    ('scaler', StandardScaler())\n",
        "])\n",
        "\n",
        "cat_pipeline = Pipeline([\n",
        "    ('imputer', SimpleImputer(strategy='most_frequent', fill_value='missing')),\n",
        "    ('encoder', OneHotEncoder(handle_unknown='ignore', sparse_output=False))\n",
        "])\n",
        "\n",
        "transformer = ColumnTransformer([\n",
        "    ('num', num_pipeline, num_feature),\n",
        "    ('cat', cat_pipeline, cat_feature)\n",
        "])\n",
        "\n",
        "estimator = LinearRegression()\n",
        "\n",
        "full_pipeline = Pipeline([\n",
        "    ('preprocessing', transformer),\n",
        "    ('estimator', estimator)\n",
        "])"
      ],
      "metadata": {
        "id": "FnqpJPbyf1Gy"
      },
      "execution_count": null,
      "outputs": []
    },
    {
      "cell_type": "code",
      "source": [
        "full_pipeline.fit(X_train, y_train)"
      ],
      "metadata": {
        "id": "3bzRZitRhFNB"
      },
      "execution_count": null,
      "outputs": []
    },
    {
      "cell_type": "code",
      "source": [
        "full_pipeline.score(X_train, y_train), full_pipeline.score(X_test, y_test)"
      ],
      "metadata": {
        "id": "F_UQZWVBhUYL"
      },
      "execution_count": null,
      "outputs": []
    },
    {
      "cell_type": "code",
      "source": [
        "from sklearn.model_selection import cross_val_score\n",
        "cross_val_score(full_pipeline, X_train, y_train, cv=5)"
      ],
      "metadata": {
        "id": "iJMxAPhRhbz-"
      },
      "execution_count": null,
      "outputs": []
    },
    {
      "cell_type": "markdown",
      "source": [
        "Random Forest Regressor"
      ],
      "metadata": {
        "id": "aarbL29JgRja"
      }
    },
    {
      "cell_type": "code",
      "source": [
        "estimator_1=RandomForestRegressor(random_state=42, n_estimators=200, min_samples_split=3,min_samples_leaf=2,max_depth=10)\n",
        "\n",
        "full_pipeline_1 = Pipeline([\n",
        "    ('preprocessing', transformer),\n",
        "    ('estimator_1', estimator_1)\n",
        "])"
      ],
      "metadata": {
        "id": "08tCNTqPnFZg"
      },
      "execution_count": null,
      "outputs": []
    },
    {
      "cell_type": "code",
      "source": [
        "full_pipeline_1.fit(X_train, y_train)"
      ],
      "metadata": {
        "id": "oRiRPV4mou_s"
      },
      "execution_count": null,
      "outputs": []
    },
    {
      "cell_type": "code",
      "source": [
        "full_pipeline_1.score(X_train, y_train), full_pipeline_1.score(X_test, y_test)"
      ],
      "metadata": {
        "id": "SFpy9Zp1ooHg"
      },
      "execution_count": null,
      "outputs": []
    },
    {
      "cell_type": "code",
      "source": [
        "from sklearn.model_selection import GridSearchCV\n",
        "params = {\n",
        "    'estimator_1__n_estimators': [50, 100, 200],\n",
        "    'estimator_1__max_depth': [10, 20, 30],\n",
        "    'estimator_1__min_samples_split': [2, 3,5],\n",
        "    'estimator_1__min_samples_leaf': [1, 2, 4]\n",
        "}"
      ],
      "metadata": {
        "id": "jQIDKPx0ot-_"
      },
      "execution_count": null,
      "outputs": []
    },
    {
      "cell_type": "code",
      "source": [
        "grid_search = GridSearchCV(full_pipeline_1, params, cv=5)"
      ],
      "metadata": {
        "id": "lqWm9zezqPyj"
      },
      "execution_count": null,
      "outputs": []
    },
    {
      "cell_type": "code",
      "source": [
        "grid_search.fit(X_train, y_train)"
      ],
      "metadata": {
        "id": "7CWFGUO6qeCc"
      },
      "execution_count": null,
      "outputs": []
    },
    {
      "cell_type": "code",
      "source": [
        "grid_search.best_params_"
      ],
      "metadata": {
        "id": "WNU_t4q2qhir"
      },
      "execution_count": null,
      "outputs": []
    },
    {
      "cell_type": "code",
      "source": [
        "y_pred2 = full_pipeline_1.predict(X_test)"
      ],
      "metadata": {
        "id": "_aucbriQrJH1"
      },
      "execution_count": null,
      "outputs": []
    },
    {
      "cell_type": "code",
      "source": [
        "y_pred2[:10]\n",
        "y_test[:10]"
      ],
      "metadata": {
        "id": "9m7SqMb6rsu3"
      },
      "execution_count": null,
      "outputs": []
    },
    {
      "cell_type": "code",
      "source": [
        "comparison = pd.DataFrame({\n",
        "    'Actual Price': y_test[:10].values,\n",
        "    'Predicted Price': y_pred[:10]\n",
        "})\n",
        "\n",
        "print(comparison)"
      ],
      "metadata": {
        "id": "tolt2PxWrxZj"
      },
      "execution_count": null,
      "outputs": []
    },
    {
      "cell_type": "code",
      "source": [
        "r2_score(y_test, y_pred2)"
      ],
      "metadata": {
        "id": "KPUXArZesMM-"
      },
      "execution_count": null,
      "outputs": []
    },
    {
      "cell_type": "code",
      "source": [
        "mse = mean_squared_error(y_test, y_pred2)\n",
        "mse"
      ],
      "metadata": {
        "id": "-i8DWhTlsm_5"
      },
      "execution_count": null,
      "outputs": []
    },
    {
      "cell_type": "code",
      "source": [
        "from sklearn.metrics import mean_absolute_error\n",
        "mae = mean_absolute_error(y_test, y_pred2)\n",
        "print(mae)"
      ],
      "metadata": {
        "id": "2RRshuq_srye"
      },
      "execution_count": null,
      "outputs": []
    },
    {
      "cell_type": "code",
      "source": [
        "sns.kdeplot(y_test, color='purple', label='Actual')\n",
        "sns.kdeplot(y_pred2, color='black', label='Predicted')\n",
        "plt.legend()\n",
        "plt.show();"
      ],
      "metadata": {
        "id": "_6niqLJTheda"
      },
      "execution_count": null,
      "outputs": []
    },
    {
      "cell_type": "markdown",
      "source": [
        "Decision Tree Regressor"
      ],
      "metadata": {
        "id": "otFZc2IjZ0yQ"
      }
    },
    {
      "cell_type": "code",
      "source": [
        "estimator_2=DecisionTreeRegressor(random_state=42,min_samples_split=3,min_samples_leaf=3,max_depth=10)\n",
        "\n",
        "full_pipeline_2 = Pipeline([\n",
        "    ('preprocessing', transformer),\n",
        "    ('estimator_2', estimator_2)\n",
        "])"
      ],
      "metadata": {
        "id": "kVA3XmD3tL_E"
      },
      "execution_count": null,
      "outputs": []
    },
    {
      "cell_type": "code",
      "source": [
        "# params = {\n",
        "#     'estimator_2__max_depth': [5, 10, 15, None],\n",
        "#     'estimator_2__min_samples_split': [2, 3, 5],\n",
        "#     'estimator_2__min_samples_leaf': [1, 2, 3],\n",
        "# }\n",
        "\n",
        "# grid_search = GridSearchCV(full_pipeline_2, param_grid=params, cv=5, scoring='r2')\n",
        "# grid_search.fit(X_train, y_train)\n",
        "\n",
        "# print(\"Ən yaxşı parametrlər:\", grid_search.best_params_)\n",
        "# print(\"Ən yaxşı CV score:\", grid_search.best_score_)"
      ],
      "metadata": {
        "id": "As00dYz546bb"
      },
      "execution_count": null,
      "outputs": []
    },
    {
      "cell_type": "code",
      "source": [
        "full_pipeline_2.fit(X_train, y_train)"
      ],
      "metadata": {
        "id": "QgE3fCwTuiF1"
      },
      "execution_count": null,
      "outputs": []
    },
    {
      "cell_type": "code",
      "source": [
        "y_pred3=full_pipeline_2.predict(X_test)"
      ],
      "metadata": {
        "id": "LExVWd61utY1"
      },
      "execution_count": null,
      "outputs": []
    },
    {
      "cell_type": "code",
      "source": [
        "mae = mean_absolute_error(y_test, y_pred3)\n",
        "mae"
      ],
      "metadata": {
        "id": "P4nV-A8wuzFo"
      },
      "execution_count": null,
      "outputs": []
    },
    {
      "cell_type": "code",
      "source": [
        "mse = mean_squared_error(y_test, y_pred3)\n",
        "mse"
      ],
      "metadata": {
        "id": "P9Oil_ypu2Sk"
      },
      "execution_count": null,
      "outputs": []
    },
    {
      "cell_type": "code",
      "source": [
        "r2_score(y_test, y_pred3)"
      ],
      "metadata": {
        "id": "AIhdeEnivfKQ"
      },
      "execution_count": null,
      "outputs": []
    },
    {
      "cell_type": "code",
      "source": [
        "sns.kdeplot(y_test, color='purple', label='Actual')\n",
        "sns.kdeplot(y_pred3, color='black', label='Predicted')\n",
        "plt.legend()\n",
        "plt.show();"
      ],
      "metadata": {
        "id": "h_C1-4S2g4C5"
      },
      "execution_count": null,
      "outputs": []
    },
    {
      "cell_type": "markdown",
      "source": [
        "Ridge and Lasso Model"
      ],
      "metadata": {
        "id": "qYPBc0F8dAWn"
      }
    },
    {
      "cell_type": "code",
      "source": [
        "from sklearn.linear_model import Ridge, Lasso\n",
        "estimator_3 = Ridge(max_iter=10000, alpha=1.0)\n",
        "estimator_4 = Lasso(max_iter=10000, alpha=0.1)\n",
        "\n",
        "full_pipeline_3 = Pipeline([\n",
        "    ('preprocessing', transformer),\n",
        "    ('estimator_3', estimator_3)\n",
        "])\n",
        "# params = {\n",
        "#     'estimator_3__alpha': [0.0001, 0.001, 0.005, 0.01, 0.1, 1]\n",
        "# }\n",
        "# grid = GridSearchCV(full_pipeline_3, params, cv=5)\n",
        "# grid.fit(X_train, y_train)\n",
        "\n",
        "# print(grid.best_params_)"
      ],
      "metadata": {
        "id": "LK34yGDHxgb8"
      },
      "execution_count": null,
      "outputs": []
    },
    {
      "cell_type": "code",
      "source": [
        "full_pipeline_3.fit(X_train, y_train)"
      ],
      "metadata": {
        "id": "UF-vDU1zxlbv"
      },
      "execution_count": null,
      "outputs": []
    },
    {
      "cell_type": "code",
      "source": [
        "full_pipeline_3.score(X_train, y_train), full_pipeline_3.score(X_test, y_test)"
      ],
      "metadata": {
        "id": "UIP-V5j4xoQy"
      },
      "execution_count": null,
      "outputs": []
    },
    {
      "cell_type": "code",
      "source": [
        "estimator_4=Lasso(alpha=0.1)\n",
        "\n",
        "full_pipeline_4 = Pipeline([\n",
        "    ('preprocessing', transformer),\n",
        "    ('estimator_4', estimator_4)\n",
        "])"
      ],
      "metadata": {
        "id": "4oIXVtNVvj0W"
      },
      "execution_count": null,
      "outputs": []
    },
    {
      "cell_type": "code",
      "source": [
        "full_pipeline_4.fit(X_train, y_train)"
      ],
      "metadata": {
        "id": "As0-L8IAxQLr"
      },
      "execution_count": null,
      "outputs": []
    },
    {
      "cell_type": "code",
      "source": [
        "full_pipeline_4.score(X_train, y_train), full_pipeline_4.score(X_test, y_test)"
      ],
      "metadata": {
        "id": "z0_XhNQ4ynVN"
      },
      "execution_count": null,
      "outputs": []
    },
    {
      "cell_type": "code",
      "source": [
        "y_pred4=full_pipeline_4.predict(X_test)"
      ],
      "metadata": {
        "id": "lt3dZQgCzXrG"
      },
      "execution_count": null,
      "outputs": []
    },
    {
      "cell_type": "code",
      "source": [
        "r2_score(y_test, y_pred4)"
      ],
      "metadata": {
        "id": "8H3P_zUiyphG"
      },
      "execution_count": null,
      "outputs": []
    },
    {
      "cell_type": "code",
      "source": [
        "sns.kdeplot(y_test, color='purple', label='Actual')\n",
        "sns.kdeplot(y_pred4, color='black', label='Predicted')\n",
        "plt.legend()\n",
        "plt.show();"
      ],
      "metadata": {
        "id": "3LI0E_420DZl"
      },
      "execution_count": null,
      "outputs": []
    },
    {
      "cell_type": "markdown",
      "source": [
        "Model Performance Comparison: R² Score and MSE"
      ],
      "metadata": {
        "id": "i2Ps59QQkooa"
      }
    },
    {
      "cell_type": "code",
      "source": [
        "pipelines = {\n",
        "    'Pipeline 1': full_pipeline_1,\n",
        "    'Pipeline 2': full_pipeline_2,\n",
        "    'Pipeline 3': full_pipeline_3,\n",
        "    'Pipeline 4': full_pipeline_4,\n",
        "}\n",
        "\n",
        "results = []\n",
        "\n",
        "for name, pipeline in pipelines.items():\n",
        "    pipeline.fit(X_train, y_train)\n",
        "    preds = pipeline.predict(X_test)\n",
        "    r2 = r2_score(y_test, preds)\n",
        "    mse = mean_squared_error(y_test, preds)\n",
        "    results.append({'Model': name, 'R2_Score': r2, 'MSE': mse})\n",
        "\n",
        "results_df = pd.DataFrame(results)\n",
        "\n",
        "plt.figure(figsize=(14,6))\n",
        "\n",
        "plt.subplot(1, 2, 1)\n",
        "sns.barplot(data=results_df, x='Model', y='R2_Score', hue='Model', palette='viridis', legend=False)\n",
        "plt.title('R² Score Comparison')\n",
        "plt.ylim(0, 1)\n",
        "\n",
        "plt.subplot(1, 2, 2)\n",
        "sns.barplot(data=results_df, x='Model', y='MSE', hue='Model', palette='magma', legend=False)\n",
        "plt.title('Mean Squared Error Comparison')\n",
        "\n",
        "plt.tight_layout();\n",
        "plt.show();"
      ],
      "metadata": {
        "id": "i8CB3AmsgbcH"
      },
      "execution_count": null,
      "outputs": []
    }
  ]
}