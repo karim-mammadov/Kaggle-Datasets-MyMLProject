{
  "nbformat": 4,
  "nbformat_minor": 0,
  "metadata": {
    "colab": {
      "provenance": [],
      "authorship_tag": "ABX9TyMlI31QVeQqC8PdAgvYERBC",
      "include_colab_link": true
    },
    "kernelspec": {
      "name": "python3",
      "display_name": "Python 3"
    },
    "language_info": {
      "name": "python"
    }
  },
  "cells": [
    {
      "cell_type": "markdown",
      "metadata": {
        "id": "view-in-github",
        "colab_type": "text"
      },
      "source": [
        "<a href=\"https://colab.research.google.com/github/karim-mammadov/Kaggle-Datasets-MyMLProject/blob/main/Titanic_Dataset.ipynb\" target=\"_parent\"><img src=\"https://colab.research.google.com/assets/colab-badge.svg\" alt=\"Open In Colab\"/></a>"
      ]
    },
    {
      "cell_type": "code",
      "execution_count": null,
      "metadata": {
        "id": "klAwY4H-s7hb"
      },
      "outputs": [],
      "source": [
        "from google.colab import files\n",
        "files.upload()"
      ]
    },
    {
      "cell_type": "code",
      "source": [
        "!mkdir -p ~/.kaggle\n",
        "!mv kaggle.json ~/.kaggle/\n",
        "!chmod 600 ~/.kaggle/kaggle.json"
      ],
      "metadata": {
        "id": "MXriA-mntDWz"
      },
      "execution_count": null,
      "outputs": []
    },
    {
      "cell_type": "code",
      "source": [
        "!kaggle datasets download yasserh/titanic-dataset"
      ],
      "metadata": {
        "id": "e35HBgI_tH35"
      },
      "execution_count": null,
      "outputs": []
    },
    {
      "cell_type": "code",
      "source": [
        "import zipfile\n",
        "with zipfile.ZipFile(\"/content/titanic-dataset.zip\", \"r\") as zip_ref:\n",
        "    zip_ref.extractall()"
      ],
      "metadata": {
        "id": "ewznhYsRtMMI"
      },
      "execution_count": null,
      "outputs": []
    },
    {
      "cell_type": "code",
      "source": [
        "import pandas as pd"
      ],
      "metadata": {
        "id": "Co6AETV7tRQc"
      },
      "execution_count": null,
      "outputs": []
    },
    {
      "cell_type": "code",
      "source": [
        "df = pd.read_csv('/content/Titanic-Dataset.csv')\n",
        "df"
      ],
      "metadata": {
        "id": "niUWYM2_tTT9"
      },
      "execution_count": null,
      "outputs": []
    },
    {
      "cell_type": "code",
      "source": [
        "df.info()"
      ],
      "metadata": {
        "id": "XUkfJV8NtZQm"
      },
      "execution_count": null,
      "outputs": []
    },
    {
      "cell_type": "code",
      "source": [
        "# randomforestclassifier # logisticregression # gridsearch # randomsearch #decisiontreeclassifier"
      ],
      "metadata": {
        "id": "Vldbul1DvYvK"
      },
      "execution_count": null,
      "outputs": []
    },
    {
      "cell_type": "code",
      "source": [
        "import matplotlib.pyplot as plt\n",
        "import seaborn as sns"
      ],
      "metadata": {
        "id": "cMCD2SvYRlk3"
      },
      "execution_count": null,
      "outputs": []
    },
    {
      "cell_type": "code",
      "source": [
        "sns.kdeplot(data=df, x=\"Age\", hue=\"Survived\", fill=True)"
      ],
      "metadata": {
        "id": "F5gzFrQARJq9"
      },
      "execution_count": null,
      "outputs": []
    },
    {
      "cell_type": "code",
      "source": [
        "sns.countplot(data=df, x=\"Sex\", hue=\"Survived\")"
      ],
      "metadata": {
        "id": "b0FglRzCRNbS"
      },
      "execution_count": null,
      "outputs": []
    },
    {
      "cell_type": "code",
      "source": [
        "sns.countplot(data=df, x=\"Pclass\", hue=\"Survived\")"
      ],
      "metadata": {
        "id": "11AFvaIIRT8M"
      },
      "execution_count": null,
      "outputs": []
    },
    {
      "cell_type": "code",
      "source": [
        "sns.countplot(data=df, x=\"Embarked\", hue=\"Survived\")"
      ],
      "metadata": {
        "id": "bBlhz5TIRXI1"
      },
      "execution_count": null,
      "outputs": []
    },
    {
      "cell_type": "code",
      "source": [
        "sns.histplot(data=df, x=\"Fare\", bins=30, kde=True)"
      ],
      "metadata": {
        "id": "SzdWUivSRcH-"
      },
      "execution_count": null,
      "outputs": []
    },
    {
      "cell_type": "code",
      "source": [
        "sns.scatterplot(data=df, x=\"Age\", y=\"Fare\", hue=\"Survived\")"
      ],
      "metadata": {
        "id": "uytTwzHwRfsK"
      },
      "execution_count": null,
      "outputs": []
    },
    {
      "cell_type": "code",
      "source": [
        "df_corr = df.corr(numeric_only=True)\n",
        "df_corr\n",
        "\n",
        "plt.figure(figsize=(8,6))\n",
        "plt.title('Correlation Map')\n",
        "sns.heatmap(df_corr, annot=True)\n",
        "plt.show();"
      ],
      "metadata": {
        "id": "8SBXfBUuSEPF"
      },
      "execution_count": null,
      "outputs": []
    },
    {
      "cell_type": "code",
      "source": [
        "df.isna().sum()"
      ],
      "metadata": {
        "id": "XYTH6ULM1gXM"
      },
      "execution_count": null,
      "outputs": []
    },
    {
      "cell_type": "code",
      "source": [
        "df=df.drop(['PassengerId','Name','Ticket','Cabin'], axis=1)\n",
        "df['FamilySize'] = df['SibSp'] + df['Parch']"
      ],
      "metadata": {
        "id": "I04M4Vr03WpS"
      },
      "execution_count": null,
      "outputs": []
    },
    {
      "cell_type": "code",
      "source": [
        "X = df.drop('Survived',axis=1)\n",
        "y = df['Survived'].copy()"
      ],
      "metadata": {
        "id": "7HjJGxJM6BMG"
      },
      "execution_count": null,
      "outputs": []
    },
    {
      "cell_type": "code",
      "source": [
        "from sklearn.model_selection import train_test_split\n",
        "X_train, X_test, y_train, y_test = train_test_split(X,y, test_size=0.2 , random_state = 42)"
      ],
      "metadata": {
        "id": "8KVB9Z2v5nhf"
      },
      "execution_count": null,
      "outputs": []
    },
    {
      "cell_type": "code",
      "source": [
        "import numpy as np"
      ],
      "metadata": {
        "id": "onmAvVmj6wdp"
      },
      "execution_count": null,
      "outputs": []
    },
    {
      "cell_type": "code",
      "source": [
        "num_features = X.select_dtypes(include=(np.number)).columns\n",
        "cat_features = X.select_dtypes(exclude=(np.number)).columns"
      ],
      "metadata": {
        "id": "cYmhFggy6PhD"
      },
      "execution_count": null,
      "outputs": []
    },
    {
      "cell_type": "code",
      "source": [
        "from sklearn.preprocessing import StandardScaler, OneHotEncoder\n",
        "from sklearn.compose import ColumnTransformer\n",
        "from sklearn.pipeline import Pipeline\n",
        "from sklearn.impute import SimpleImputer\n",
        "from sklearn.linear_model import LogisticRegression\n",
        "from sklearn.ensemble import RandomForestClassifier\n",
        "from sklearn.metrics import confusion_matrix, f1_score, precision_score, recall_score"
      ],
      "metadata": {
        "id": "cq1LEY6F4HzK"
      },
      "execution_count": null,
      "outputs": []
    },
    {
      "cell_type": "code",
      "source": [
        "num_pipeline = Pipeline([\n",
        "    ('imputer', SimpleImputer(strategy='median')),\n",
        "    ('scaler', StandardScaler())\n",
        "])\n",
        "\n",
        "cat_pipeline = Pipeline([\n",
        "    ('imputer', SimpleImputer(strategy='most_frequent', fill_value= 'missing')),\n",
        "    ('scaler', OneHotEncoder(handle_unknown='ignore', sparse_output= False))\n",
        "])\n",
        "\n",
        "transforme = ColumnTransformer([\n",
        "    ('num', num_pipeline,num_features),\n",
        "    ('cat', cat_pipeline,cat_features)\n",
        "], remainder='passthrough')\n",
        "\n",
        "estimator = LogisticRegression()\n",
        "\n",
        "full_pipeline= Pipeline([\n",
        "    ('transform', transforme),\n",
        "    ('estimotor', estimator)\n",
        "])"
      ],
      "metadata": {
        "id": "SQtNnz-Q5gQO"
      },
      "execution_count": null,
      "outputs": []
    },
    {
      "cell_type": "code",
      "source": [
        "full_pipeline.fit(X_train,y_train)"
      ],
      "metadata": {
        "id": "Zy1bMGCT88fF"
      },
      "execution_count": null,
      "outputs": []
    },
    {
      "cell_type": "code",
      "source": [
        "full_pipeline.score(X_test,y_test), full_pipeline.score(X_train,y_train)"
      ],
      "metadata": {
        "id": "06OQfNNkEk8H"
      },
      "execution_count": null,
      "outputs": []
    },
    {
      "cell_type": "code",
      "source": [
        "# from sklearn.tree import DecisionTreeClassifier"
      ],
      "metadata": {
        "id": "GRmVi2jjE9u5"
      },
      "execution_count": null,
      "outputs": []
    },
    {
      "cell_type": "code",
      "source": [
        "from sklearn.ensemble import RandomForestClassifier\n",
        "from sklearn.model_selection import GridSearchCV\n",
        "from sklearn.pipeline import Pipeline\n",
        "\n",
        "estimator2 = RandomForestClassifier(random_state=42)\n",
        "\n",
        "pipeline_2 = Pipeline([\n",
        "    ('transformer', transforme),\n",
        "    ('classifier', estimator2)\n",
        "])\n",
        "\n",
        "param_grid= {\n",
        "    'classifier__n_estimators': [100, 200],\n",
        "    'classifier__max_depth': [5, 10],\n",
        "    'classifier__min_samples_leaf': [1, 2],\n",
        "    'classifier__min_samples_split': [2, 5],\n",
        "}\n"
      ],
      "metadata": {
        "id": "SB96KVWVIwkk"
      },
      "execution_count": null,
      "outputs": []
    },
    {
      "cell_type": "code",
      "source": [
        "grid_search = GridSearchCV(pipeline_2, param_grid, cv=3, scoring='accuracy', n_jobs=-1)\n",
        "grid_search.fit(X_train, y_train)"
      ],
      "metadata": {
        "id": "mEIhq4UxWm6Z"
      },
      "execution_count": null,
      "outputs": []
    },
    {
      "cell_type": "code",
      "source": [
        "grid_search.score(X_test,y_test), grid_search.score(X_train,y_train)"
      ],
      "metadata": {
        "id": "umhLxS44Jh4p"
      },
      "execution_count": null,
      "outputs": []
    },
    {
      "cell_type": "code",
      "source": [
        "from sklearn.ensemble import RandomForestClassifier\n",
        "from sklearn.pipeline import Pipeline"
      ],
      "metadata": {
        "id": "GU4Ue8_xUWEG"
      },
      "execution_count": null,
      "outputs": []
    },
    {
      "cell_type": "code",
      "source": [
        "estimator2 = RandomForestClassifier(n_estimators=200, max_depth=10, min_samples_leaf= 2,min_samples_split=2, random_state=42)\n",
        "full_pipeline2 = Pipeline([\n",
        "    ('transformer', transforme),\n",
        "    ('estimator', estimator2)\n",
        "])"
      ],
      "metadata": {
        "id": "Oz-N-09qKaEd"
      },
      "execution_count": null,
      "outputs": []
    },
    {
      "cell_type": "code",
      "source": [
        "full_pipeline2.fit(X_train,y_train)"
      ],
      "metadata": {
        "id": "zjd66mjWL_G5"
      },
      "execution_count": null,
      "outputs": []
    },
    {
      "cell_type": "code",
      "source": [
        "full_pipeline2.score(X_test,y_test), full_pipeline2.score(X_train,y_train)"
      ],
      "metadata": {
        "id": "_k19xbQrMbJQ"
      },
      "execution_count": null,
      "outputs": []
    },
    {
      "cell_type": "code",
      "source": [],
      "metadata": {
        "id": "hcpxzZK_Mh22"
      },
      "execution_count": null,
      "outputs": []
    }
  ]
}