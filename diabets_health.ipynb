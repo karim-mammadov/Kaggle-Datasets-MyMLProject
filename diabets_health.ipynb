{
  "nbformat": 4,
  "nbformat_minor": 0,
  "metadata": {
    "colab": {
      "provenance": [],
      "authorship_tag": "ABX9TyO/KaSV/77ZT4gIHty7siR5",
      "include_colab_link": true
    },
    "kernelspec": {
      "name": "python3",
      "display_name": "Python 3"
    },
    "language_info": {
      "name": "python"
    }
  },
  "cells": [
    {
      "cell_type": "markdown",
      "metadata": {
        "id": "view-in-github",
        "colab_type": "text"
      },
      "source": [
        "<a href=\"https://colab.research.google.com/github/karim-mammadov/Kaggle-Datasets-MyMLProject/blob/main/diabets_health.ipynb\" target=\"_parent\"><img src=\"https://colab.research.google.com/assets/colab-badge.svg\" alt=\"Open In Colab\"/></a>"
      ]
    },
    {
      "cell_type": "code",
      "execution_count": null,
      "metadata": {
        "id": "-df2bKaTn1A4"
      },
      "outputs": [],
      "source": [
        "from google.colab import files\n",
        "files.upload()"
      ]
    },
    {
      "cell_type": "code",
      "source": [
        "!mkdir -p ~/.kaggle\n",
        "!mv kaggle.json ~/.kaggle/\n",
        "!chmod 600 ~/.kaggle/kaggle.json"
      ],
      "metadata": {
        "id": "05wl16lpoAOp"
      },
      "execution_count": null,
      "outputs": []
    },
    {
      "cell_type": "code",
      "source": [
        "!kaggle datasets download alexteboul/diabetes-health-indicators-dataset"
      ],
      "metadata": {
        "id": "CfTtDbcCoIC2"
      },
      "execution_count": null,
      "outputs": []
    },
    {
      "cell_type": "code",
      "source": [
        "import zipfile\n",
        "with zipfile.ZipFile(\"/content/diabetes-health-indicators-dataset.zip\", \"r\") as zip_ref:\n",
        "    zip_ref.extractall()"
      ],
      "metadata": {
        "id": "4QDFs-uooQTy"
      },
      "execution_count": null,
      "outputs": []
    },
    {
      "cell_type": "code",
      "source": [
        "import pandas as pd"
      ],
      "metadata": {
        "id": "X-fFuYwhqkow"
      },
      "execution_count": null,
      "outputs": []
    },
    {
      "cell_type": "markdown",
      "source": [
        "# DATA CLEANING and VISUALIZATION"
      ],
      "metadata": {
        "id": "ZZd9r2rAjtHx"
      }
    },
    {
      "cell_type": "code",
      "source": [
        "df = pd.read_csv('/content/diabetes_binary_5050split_health_indicators_BRFSS2015.csv')"
      ],
      "metadata": {
        "id": "MobsgkVwoY8h"
      },
      "execution_count": null,
      "outputs": []
    },
    {
      "cell_type": "code",
      "source": [
        "df"
      ],
      "metadata": {
        "id": "4-HzwwG0rmOr"
      },
      "execution_count": null,
      "outputs": []
    },
    {
      "cell_type": "code",
      "source": [
        "df.info()"
      ],
      "metadata": {
        "id": "lsPHLZrppsJ6"
      },
      "execution_count": null,
      "outputs": []
    },
    {
      "cell_type": "code",
      "source": [
        "df.duplicated().sum()"
      ],
      "metadata": {
        "id": "Z5uNzSuWr_Oi"
      },
      "execution_count": null,
      "outputs": []
    },
    {
      "cell_type": "code",
      "source": [
        "print(df['Diabetes_binary'].value_counts())"
      ],
      "metadata": {
        "id": "0-a9intilbkG"
      },
      "execution_count": null,
      "outputs": []
    },
    {
      "cell_type": "code",
      "source": [
        "df.describe()"
      ],
      "metadata": {
        "id": "CYOfathFqnNb"
      },
      "execution_count": null,
      "outputs": []
    },
    {
      "cell_type": "code",
      "source": [
        "df.isna().sum()"
      ],
      "metadata": {
        "id": "873o2QzFqsRW"
      },
      "execution_count": null,
      "outputs": []
    },
    {
      "cell_type": "code",
      "source": [
        "df.corr(numeric_only=True)"
      ],
      "metadata": {
        "id": "u8Hz6AlUq0KZ"
      },
      "execution_count": null,
      "outputs": []
    },
    {
      "cell_type": "code",
      "source": [
        "import seaborn as sns\n",
        "import matplotlib.pyplot as plt\n",
        "import numpy as np\n",
        "import pandas as pd"
      ],
      "metadata": {
        "id": "7Sj2HHnQq50R"
      },
      "execution_count": null,
      "outputs": []
    },
    {
      "cell_type": "code",
      "source": [
        "df_corr = df.corr(numeric_only=True)\n",
        "df_corr\n",
        "\n",
        "plt.figure(figsize=(16,12))\n",
        "sns.heatmap(df_corr, annot=True)"
      ],
      "metadata": {
        "id": "tNFTTfmCrPnt"
      },
      "execution_count": null,
      "outputs": []
    },
    {
      "cell_type": "code",
      "source": [
        "plt.pie(df['Sex'].value_counts(), labels=df['Sex'].unique(), autopct='%1.1f%%')\n",
        "plt.show();"
      ],
      "metadata": {
        "id": "lysQjAdurSh4"
      },
      "execution_count": null,
      "outputs": []
    },
    {
      "cell_type": "code",
      "source": [
        "plt.pie(df['Diabetes_binary'].value_counts(), labels=df['Diabetes_binary'].unique(), autopct='%1.1f%%')\n",
        "plt.show();"
      ],
      "metadata": {
        "id": "dyfn08WQt7Ma"
      },
      "execution_count": null,
      "outputs": []
    },
    {
      "cell_type": "code",
      "source": [
        "df"
      ],
      "metadata": {
        "id": "rb65g166ue38"
      },
      "execution_count": null,
      "outputs": []
    },
    {
      "cell_type": "code",
      "source": [
        "numeric_columns = ['BMI', 'MentHlth', 'PhysHlth', 'Education', 'Income']\n",
        "\n",
        "Q1 = df[numeric_columns].quantile(0.25)\n",
        "Q3 = df[numeric_columns].quantile(0.75)\n",
        "IQR = Q3 - Q1\n",
        "\n",
        "df = df[~((df[numeric_columns] < (Q1 - 1.5 * IQR)) |\n",
        "          (df[numeric_columns] > (Q3 + 1.5 * IQR))).any(axis=1)]\n",
        "\n",
        "print(\"Yeni ölçü (outlier təmizlənmiş):\", df.shape)"
      ],
      "metadata": {
        "id": "E7ZXOtlUoLI7"
      },
      "execution_count": null,
      "outputs": []
    },
    {
      "cell_type": "code",
      "source": [
        "# categorical_features = ['Sex', 'Age', 'HighBP', 'HighChol', 'CholCheck', 'Smoker', 'HeartDiseaseorAttack',\n",
        "#                         'PhysActivity', 'Fruits', 'Veggies', 'HvyAlcoholConsump', 'AnyHealthcare', 'NoDocbcCost',\n",
        "#                         'GenHlth', 'DiffWalk']\n",
        "\n",
        "# numeric_features = ['BMI', 'MentHlth', 'PhysHlth', 'Education', 'Income']"
      ],
      "metadata": {
        "id": "-TBn3W1rlvGa"
      },
      "execution_count": null,
      "outputs": []
    },
    {
      "cell_type": "markdown",
      "source": [
        "# Build a Model"
      ],
      "metadata": {
        "id": "O_kCgbFtjf2a"
      }
    },
    {
      "cell_type": "code",
      "source": [
        "from sklearn.model_selection import train_test_split\n",
        "from sklearn.pipeline import Pipeline\n",
        "from sklearn.compose import ColumnTransformer\n",
        "from sklearn.preprocessing import StandardScaler, OneHotEncoder\n",
        "from sklearn.impute import SimpleImputer\n",
        "from sklearn.ensemble import RandomForestClassifier\n",
        "from sklearn.metrics import classification_report, confusion_matrix"
      ],
      "metadata": {
        "id": "o5NPhHFtlv53"
      },
      "execution_count": null,
      "outputs": []
    },
    {
      "cell_type": "code",
      "source": [
        "X = df.drop(\"Diabetes_binary\", axis=1)\n",
        "y = df[\"Diabetes_binary\"].copy()"
      ],
      "metadata": {
        "id": "i6gE-2gme_Gr"
      },
      "execution_count": null,
      "outputs": []
    },
    {
      "cell_type": "code",
      "source": [
        "numeric_features = X.select_dtypes(include=[np.number]).columns\n",
        "categorical_features = X.select_dtypes(exclude=[np.number]).columns"
      ],
      "metadata": {
        "id": "HMbDs0H1pubL"
      },
      "execution_count": null,
      "outputs": []
    },
    {
      "cell_type": "code",
      "source": [
        "X_train, X_test, y_train, y_test = train_test_split(X, y, test_size=0.2, random_state=42)"
      ],
      "metadata": {
        "id": "Yr3uj9BEqxUE"
      },
      "execution_count": null,
      "outputs": []
    },
    {
      "cell_type": "code",
      "source": [
        "numeric_transformer = Pipeline(steps=[\n",
        "    ('imputer', SimpleImputer(strategy='median')),\n",
        "    ('scaler', StandardScaler())\n",
        "])\n",
        "\n",
        "categorical_transformer = Pipeline(steps=[\n",
        "    ('imputer', SimpleImputer(strategy='most_frequent')),\n",
        "    ('onehot', OneHotEncoder(handle_unknown='ignore'))\n",
        "])\n",
        "\n",
        "preprocessor = ColumnTransformer(transformers=[\n",
        "    ('num', numeric_transformer, numeric_features),\n",
        "    ('cat', categorical_transformer, categorical_features)\n",
        "])\n",
        "\n",
        "full_pipeline = Pipeline(steps=[\n",
        "    ('preprocessor', preprocessor),\n",
        "    ('classifier', RandomForestClassifier(random_state=42))\n",
        "])"
      ],
      "metadata": {
        "id": "Ymwwdh8BfUIC"
      },
      "execution_count": null,
      "outputs": []
    },
    {
      "cell_type": "code",
      "source": [
        "full_pipeline.fit(X_train, y_train)"
      ],
      "metadata": {
        "id": "uiNGJ2IPfmwn"
      },
      "execution_count": null,
      "outputs": []
    },
    {
      "cell_type": "code",
      "source": [
        "full_pipeline.score(X_train,y_train), full_pipeline.score(X_test,y_test)"
      ],
      "metadata": {
        "id": "2FXZvXALfrml"
      },
      "execution_count": null,
      "outputs": []
    },
    {
      "cell_type": "code",
      "source": [
        "from sklearn.ensemble import RandomForestClassifier\n",
        "\n",
        "full_pipeline_2 = Pipeline(steps=[\n",
        "    ('preprocessor', preprocessor),\n",
        "    ('classifier', RandomForestClassifier(\n",
        "        n_estimators=100,\n",
        "        max_depth=7,\n",
        "        random_state=42\n",
        "    ))\n",
        "])\n",
        "\n",
        "full_pipeline_2.fit(X_train, y_train)\n",
        "y_pred_rf = full_pipeline_2.predict(X_test)"
      ],
      "metadata": {
        "id": "-fm499JFfz-T"
      },
      "execution_count": null,
      "outputs": []
    },
    {
      "cell_type": "code",
      "source": [
        "full_pipeline_2.score(X_train,y_train), full_pipeline_2.score(X_test,y_test)"
      ],
      "metadata": {
        "id": "JCeV3WuJgdrs"
      },
      "execution_count": null,
      "outputs": []
    },
    {
      "cell_type": "code",
      "source": [
        "from xgboost import XGBClassifier\n",
        "from sklearn.metrics import classification_report, confusion_matrix, roc_auc_score\n",
        "from sklearn.model_selection import GridSearchCV\n",
        "\n",
        "\n",
        "numeric_transformer = Pipeline(steps=[\n",
        "    ('imputer', SimpleImputer(strategy='median')),\n",
        "    ('scaler', StandardScaler())\n",
        "])\n",
        "\n",
        "categorical_transformer = Pipeline(steps=[\n",
        "    ('imputer', SimpleImputer(strategy='most_frequent')),\n",
        "    ('onehot', OneHotEncoder(handle_unknown='ignore'))\n",
        "])\n",
        "\n",
        "preprocessor = ColumnTransformer(transformers=[\n",
        "    ('num', numeric_transformer, numeric_features),\n",
        "    ('cat', categorical_transformer, categorical_features)\n",
        "])\n",
        "\n",
        "full_pipeline_xgb = Pipeline(steps=[\n",
        "    ('preprocessor', preprocessor),\n",
        "    ('classifier', XGBClassifier(use_label_encoder=False, eval_metric='logloss', random_state=42))\n",
        "])"
      ],
      "metadata": {
        "id": "lrfHpKG-gi_U"
      },
      "execution_count": null,
      "outputs": []
    },
    {
      "cell_type": "code",
      "source": [
        "param_grid = {\n",
        "    'classifier__n_estimators': [100, 200],\n",
        "    'classifier__max_depth': [3, 5, 7],\n",
        "    'classifier__learning_rate': [0.01, 0.1, 0.2],\n",
        "    'classifier__subsample': [0.8, 1.0]\n",
        "}\n",
        "\n",
        "grid_search = GridSearchCV(\n",
        "    full_pipeline_xgb,\n",
        "    param_grid,\n",
        "    cv=3,\n",
        "    scoring='f1',\n",
        "    n_jobs=-1,\n",
        "    verbose=1\n",
        ")"
      ],
      "metadata": {
        "id": "t9Y_OmjthaQQ"
      },
      "execution_count": null,
      "outputs": []
    },
    {
      "cell_type": "code",
      "source": [
        "grid_search.fit(X_train, y_train)"
      ],
      "metadata": {
        "id": "lqvTfqNIhjbs"
      },
      "execution_count": null,
      "outputs": []
    },
    {
      "cell_type": "code",
      "source": [
        "print(\"Ən yaxşı parametrlər:\", grid_search.best_params_)\n",
        "best_model = grid_search.best_estimator_\n",
        "\n",
        "\n",
        "y_pred = best_model.predict(X_test)\n",
        "y_proba = best_model.predict_proba(X_test)[:, 1]\n",
        "\n",
        "print(\"Classification Report:\\n\", classification_report(y_test, y_pred))\n",
        "print(\"Confusion Matrix:\\n\", confusion_matrix(y_test, y_pred))\n",
        "print(\"ROC-AUC Score:\", roc_auc_score(y_test, y_proba))\n"
      ],
      "metadata": {
        "id": "tu0reiSRhpe4"
      },
      "execution_count": null,
      "outputs": []
    },
    {
      "cell_type": "code",
      "source": [
        "y_proba = best_model.predict_proba(X_test)[:, 1]"
      ],
      "metadata": {
        "id": "BR4OchYBhwjl"
      },
      "execution_count": null,
      "outputs": []
    },
    {
      "cell_type": "code",
      "source": [
        "from sklearn.metrics import classification_report, confusion_matrix\n",
        "\n",
        "def evaluate_threshold(thresh):\n",
        "    y_pred_thresh = (y_proba >= thresh).astype(int)\n",
        "    print(f\"Threshold = {thresh}\")\n",
        "    print(classification_report(y_test, y_pred_thresh))\n",
        "    print(\"Confusion Matrix:\\n\", confusion_matrix(y_test, y_pred_thresh))\n",
        "    print(\"-\" * 50)\n",
        "\n",
        "\n",
        "for t in [0.5, 0.4, 0.35, 0.3, 0.25]:\n",
        "    evaluate_threshold(t)"
      ],
      "metadata": {
        "id": "4kBoMikniy5J"
      },
      "execution_count": null,
      "outputs": []
    },
    {
      "cell_type": "code",
      "source": [
        "from sklearn.metrics import roc_curve\n",
        "\n",
        "fpr, tpr, thresholds = roc_curve(y_test, y_proba)\n",
        "\n",
        "import matplotlib.pyplot as plt\n",
        "\n",
        "plt.figure(figsize=(10, 6))\n",
        "plt.plot(thresholds, tpr, label='True Positive Rate (Recall)')\n",
        "plt.plot(thresholds, 1 - fpr, label='1 - False Positive Rate')\n",
        "plt.xlabel(\"Threshold\")\n",
        "plt.ylabel(\"Rate\")\n",
        "plt.title(\"Threshold vs TPR & 1-FPR\")\n",
        "plt.grid()\n",
        "plt.legend()\n",
        "plt.show()"
      ],
      "metadata": {
        "id": "-Pqn788Di4k0"
      },
      "execution_count": null,
      "outputs": []
    },
    {
      "cell_type": "code",
      "source": [],
      "metadata": {
        "id": "uJfOA3Fhi7xs"
      },
      "execution_count": null,
      "outputs": []
    }
  ]
}