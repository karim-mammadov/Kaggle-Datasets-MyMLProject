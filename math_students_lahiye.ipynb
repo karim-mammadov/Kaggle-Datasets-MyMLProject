{
  "nbformat": 4,
  "nbformat_minor": 0,
  "metadata": {
    "colab": {
      "provenance": [],
      "authorship_tag": "ABX9TyMKlEDwD6b/p77/D+9744vp",
      "include_colab_link": true
    },
    "kernelspec": {
      "name": "python3",
      "display_name": "Python 3"
    },
    "language_info": {
      "name": "python"
    }
  },
  "cells": [
    {
      "cell_type": "markdown",
      "metadata": {
        "id": "view-in-github",
        "colab_type": "text"
      },
      "source": [
        "<a href=\"https://colab.research.google.com/github/karim-mammadov/Kaggle-Datasets-MyMLProject/blob/main/math_students_lahiye.ipynb\" target=\"_parent\"><img src=\"https://colab.research.google.com/assets/colab-badge.svg\" alt=\"Open In Colab\"/></a>"
      ]
    },
    {
      "cell_type": "code",
      "execution_count": null,
      "metadata": {
        "id": "ejCgCAXL9DSr"
      },
      "outputs": [],
      "source": [
        "from google.colab import files\n",
        "files.upload()"
      ]
    },
    {
      "cell_type": "code",
      "source": [
        "!mkdir -p ~/.kaggle\n",
        "!mv kaggle.json ~/.kaggle/\n",
        "!chmod 600 ~/.kaggle/kaggle.json"
      ],
      "metadata": {
        "id": "VzRlxLX99ObB"
      },
      "execution_count": null,
      "outputs": []
    },
    {
      "cell_type": "code",
      "source": [
        "!kaggle datasets download adilshamim8/math-students"
      ],
      "metadata": {
        "id": "Riku0VOJ9hTD"
      },
      "execution_count": null,
      "outputs": []
    },
    {
      "cell_type": "code",
      "source": [
        "import zipfile"
      ],
      "metadata": {
        "id": "Q4X_6PyCOVR3"
      },
      "execution_count": null,
      "outputs": []
    },
    {
      "cell_type": "code",
      "source": [
        "with zipfile.ZipFile('/content/math-students.zip', 'r') as zip_ref:\n",
        "    zip_ref.extractall()"
      ],
      "metadata": {
        "id": "kRf6MD3D3wiJ"
      },
      "execution_count": null,
      "outputs": []
    },
    {
      "cell_type": "code",
      "source": [
        "import pandas as pd\n",
        "pd.set_option('display.max_columns', None)"
      ],
      "metadata": {
        "id": "QSALDXOs9swI"
      },
      "execution_count": null,
      "outputs": []
    },
    {
      "cell_type": "code",
      "source": [
        "df = pd.read_csv(\"/content/math-students.zip\")\n",
        "df"
      ],
      "metadata": {
        "id": "a3i98pbV9zJC"
      },
      "execution_count": null,
      "outputs": []
    },
    {
      "cell_type": "code",
      "source": [
        "df.info()"
      ],
      "metadata": {
        "id": "bp7j7ZBr95Wd"
      },
      "execution_count": null,
      "outputs": []
    },
    {
      "cell_type": "code",
      "source": [
        "df.describe()"
      ],
      "metadata": {
        "id": "Ju0Uz6dg-TvS"
      },
      "execution_count": null,
      "outputs": []
    },
    {
      "cell_type": "code",
      "source": [
        "df.isna().sum()"
      ],
      "metadata": {
        "id": "DVhSGPCd4BrI"
      },
      "execution_count": null,
      "outputs": []
    },
    {
      "cell_type": "code",
      "source": [
        "df.corr(numeric_only=True)"
      ],
      "metadata": {
        "id": "I52DQbIAADBo"
      },
      "execution_count": null,
      "outputs": []
    },
    {
      "cell_type": "code",
      "source": [
        "import matplotlib.pyplot as plt\n",
        "import seaborn as sns"
      ],
      "metadata": {
        "id": "l_mVv0G03jOi"
      },
      "execution_count": null,
      "outputs": []
    },
    {
      "cell_type": "code",
      "source": [
        "df_corr = df.corr(numeric_only=True)\n",
        "df_corr\n",
        "\n",
        "plt.figure(figsize=(10,10))\n",
        "sns.heatmap(df_corr, annot=True)"
      ],
      "metadata": {
        "id": "SFbhXvgn4UTZ"
      },
      "execution_count": null,
      "outputs": []
    },
    {
      "cell_type": "code",
      "source": [
        "plt.pie(df['sex'].value_counts(), labels=df['sex'].unique(), autopct='%1.1f%%')\n",
        "plt.show();"
      ],
      "metadata": {
        "id": "WZnNFJZ-4ldQ"
      },
      "execution_count": null,
      "outputs": []
    },
    {
      "cell_type": "code",
      "source": [
        "plt.pie(df['Mjob'].value_counts(), labels=df['Mjob'].unique(), autopct='%1.1f%%')\n",
        "plt.show();"
      ],
      "metadata": {
        "id": "4mZSSMT66ISk"
      },
      "execution_count": null,
      "outputs": []
    },
    {
      "cell_type": "code",
      "source": [
        "plt.pie(df['Fjob'].value_counts(), labels=df['Fjob'].unique(), autopct='%1.1f%%')\n",
        "plt.show();"
      ],
      "metadata": {
        "id": "OM-RrsMQ6iTT"
      },
      "execution_count": null,
      "outputs": []
    },
    {
      "cell_type": "code",
      "source": [
        "df['Mjob'].unique()"
      ],
      "metadata": {
        "id": "0Fq3hIH06tW1"
      },
      "execution_count": null,
      "outputs": []
    },
    {
      "cell_type": "code",
      "source": [
        "df['Fjob'].unique()"
      ],
      "metadata": {
        "id": "dVz2g2l961_C"
      },
      "execution_count": null,
      "outputs": []
    },
    {
      "cell_type": "code",
      "source": [
        "df.duplicated().sum()"
      ],
      "metadata": {
        "id": "QSAWThYN6514"
      },
      "execution_count": null,
      "outputs": []
    },
    {
      "cell_type": "code",
      "source": [
        "df.info()"
      ],
      "metadata": {
        "id": "k1MH6iWM688B"
      },
      "execution_count": null,
      "outputs": []
    },
    {
      "cell_type": "code",
      "source": [
        "df"
      ],
      "metadata": {
        "id": "4duwXIDD7A6r"
      },
      "execution_count": null,
      "outputs": []
    },
    {
      "cell_type": "code",
      "source": [
        "df['Mjob']=df['Mjob'].str.replace('at_home','At Home')\n",
        "df['Fjob']=df['Fjob'].str.replace('at_home','At Home')\n",
        "df"
      ],
      "metadata": {
        "id": "TJVu1CN17PvG"
      },
      "execution_count": null,
      "outputs": []
    },
    {
      "cell_type": "code",
      "source": [
        "X=df.drop('G3', axis=1)\n",
        "y=df['G3'].copy()"
      ],
      "metadata": {
        "id": "u3D9xvn874o3"
      },
      "execution_count": null,
      "outputs": []
    },
    {
      "cell_type": "code",
      "source": [
        "from sklearn.model_selection import train_test_split\n",
        "X_train, X_test, y_train, y_test = train_test_split(X, y, test_size=0.2, random_state=42)"
      ],
      "metadata": {
        "id": "4mIg_w0K8XgK"
      },
      "execution_count": null,
      "outputs": []
    },
    {
      "cell_type": "code",
      "source": [
        "import numpy as np"
      ],
      "metadata": {
        "id": "gO3PI9Aw-EWI"
      },
      "execution_count": null,
      "outputs": []
    },
    {
      "cell_type": "code",
      "source": [
        "num_features = X_train.select_dtypes(include=np.number).columns\n",
        "cat_features = X_train.select_dtypes(exclude=np.number).columns"
      ],
      "metadata": {
        "id": "4l7vhPqY99cO"
      },
      "execution_count": null,
      "outputs": []
    },
    {
      "cell_type": "code",
      "source": [
        "X_train.shape"
      ],
      "metadata": {
        "id": "VU_FyIzu9-DQ"
      },
      "execution_count": null,
      "outputs": []
    },
    {
      "cell_type": "code",
      "source": [
        "X_test.shape"
      ],
      "metadata": {
        "id": "7-P6tPu--O7h"
      },
      "execution_count": null,
      "outputs": []
    },
    {
      "cell_type": "code",
      "source": [
        "from sklearn.pipeline import Pipeline\n",
        "from sklearn.preprocessing import StandardScaler, OneHotEncoder\n",
        "from sklearn.compose import ColumnTransformer\n",
        "from sklearn.impute import SimpleImputer\n",
        "from sklearn.linear_model import LinearRegression\n",
        "from sklearn.ensemble import RandomForestRegressor\n",
        "from sklearn.metrics import mean_squared_error"
      ],
      "metadata": {
        "id": "qJHv8Tv2-rwr"
      },
      "execution_count": null,
      "outputs": []
    },
    {
      "cell_type": "code",
      "source": [
        "num_pipeline = Pipeline([\n",
        "    ('imputer',SimpleImputer(strategy='median')),\n",
        "    ('scaler', StandardScaler())\n",
        "])\n",
        "\n",
        "cat_pipeline = Pipeline([\n",
        "    ('imputer', SimpleImputer(strategy='most_frequent', fill_value='missing')),\n",
        "    ('onehot', OneHotEncoder(handle_unknown='ignore', sparse_output=False))\n",
        "])\n",
        "\n",
        "transformer = ColumnTransformer([\n",
        "    ('num', num_pipeline, num_features),\n",
        "    ('cat', cat_pipeline, cat_features)\n",
        "],remainder='passthrough')\n",
        "\n",
        "estimator = LinearRegression()\n",
        "\n",
        "full_pipeline = Pipeline([\n",
        "    ('transformer', transformer),\n",
        "    ('estimator', estimator)\n",
        " ])"
      ],
      "metadata": {
        "id": "wN6ffVnb-sdD"
      },
      "execution_count": null,
      "outputs": []
    },
    {
      "cell_type": "code",
      "source": [
        "full_pipeline.fit(X_train,y_train)"
      ],
      "metadata": {
        "id": "vjLt8E1IBfLI"
      },
      "execution_count": null,
      "outputs": []
    },
    {
      "cell_type": "code",
      "source": [
        "full_pipeline.score(X_test,y_test), full_pipeline.score(X_train,y_train)"
      ],
      "metadata": {
        "id": "LaiO8DH7CCoj"
      },
      "execution_count": null,
      "outputs": []
    },
    {
      "cell_type": "code",
      "source": [
        "y_pred = full_pipeline.predict(X_test)\n",
        "mse = mean_squared_error(y_test, y_pred)\n",
        "mse"
      ],
      "metadata": {
        "id": "1_vzdOQhCVlk"
      },
      "execution_count": null,
      "outputs": []
    },
    {
      "cell_type": "code",
      "source": [
        "from sklearn.metrics import r2_score\n",
        "r2 = r2_score(y_test, y_pred)\n",
        "r2"
      ],
      "metadata": {
        "id": "Y2ENyBCBCf6_"
      },
      "execution_count": null,
      "outputs": []
    },
    {
      "cell_type": "code",
      "source": [
        "from sklearn.linear_model import Ridge\n",
        "estimator_1 = Ridge(alpha=0.1)\n",
        "\n",
        "full_pipeline_1 = Pipeline([\n",
        "    ('transformer', transformer),\n",
        "    ('estimator1', estimator_1)\n",
        " ])"
      ],
      "metadata": {
        "id": "DiLN0wreDJd6"
      },
      "execution_count": null,
      "outputs": []
    },
    {
      "cell_type": "code",
      "source": [
        "full_pipeline_1.fit(X_train,y_train)"
      ],
      "metadata": {
        "id": "QniztS6MGD71"
      },
      "execution_count": null,
      "outputs": []
    },
    {
      "cell_type": "code",
      "source": [
        "full_pipeline_1.score(X_test,y_test), full_pipeline_1.score(X_train,y_train)"
      ],
      "metadata": {
        "id": "62-hecwTGJQF"
      },
      "execution_count": null,
      "outputs": []
    },
    {
      "cell_type": "code",
      "source": [
        "from sklearn.ensemble import RandomForestRegressor\n",
        "estimator_2 = RandomForestRegressor(n_estimators=10, random_state=42,min_samples_split=6,max_depth=30)\n",
        "\n",
        "full_pipeline_2 = Pipeline([\n",
        "    ('transformer', transformer),\n",
        "    ('estimator2', estimator_2)\n",
        " ])"
      ],
      "metadata": {
        "id": "VTwqxOcOGMqR"
      },
      "execution_count": null,
      "outputs": []
    },
    {
      "cell_type": "code",
      "source": [
        "full_pipeline_2.fit(X_train,y_train)"
      ],
      "metadata": {
        "id": "kHm95Yc2ILwq"
      },
      "execution_count": null,
      "outputs": []
    },
    {
      "cell_type": "code",
      "source": [
        "full_pipeline_2.score(X_test,y_test), full_pipeline_2.score(X_train,y_train)"
      ],
      "metadata": {
        "id": "Oh58PdRdIOfg"
      },
      "execution_count": null,
      "outputs": []
    },
    {
      "cell_type": "code",
      "source": [
        "df_corr_1 = df.corr(numeric_only=True)\n",
        "df_corr_1\n",
        "\n",
        "plt.figure(figsize=(10,10))\n",
        "sns.heatmap(df_corr, annot=True)"
      ],
      "metadata": {
        "id": "4B1BNDy8IYgE"
      },
      "execution_count": null,
      "outputs": []
    },
    {
      "cell_type": "code",
      "source": [
        "df.corr(numeric_only=True)"
      ],
      "metadata": {
        "id": "gbOhAgJTc_cg"
      },
      "execution_count": null,
      "outputs": []
    },
    {
      "cell_type": "code",
      "source": [
        "df"
      ],
      "metadata": {
        "id": "iPlCUmRcF0iw"
      },
      "execution_count": null,
      "outputs": []
    },
    {
      "cell_type": "code",
      "source": [
        "df1_sil = df.copy()"
      ],
      "metadata": {
        "id": "HZuUQ2aChBZ6"
      },
      "execution_count": null,
      "outputs": []
    },
    {
      "cell_type": "code",
      "source": [
        "from sklearn.preprocessing import LabelEncoder\n",
        "le = LabelEncoder()\n",
        "df1_sil['Pstatus'] = le.fit_transform(df1_sil['Pstatus'])\n",
        "df1_sil['school'] = le.fit_transform(df1_sil['school'])\n",
        "df1_sil['famsize'] = le.fit_transform(df1_sil['famsize'])\n",
        "df1_sil['sex'] = le.fit_transform(df1_sil['sex'])\n",
        "df1_sil['Mjob'] = le.fit_transform(df1_sil['Mjob'])\n",
        "df1_sil['Fjob'] = le.fit_transform(df1_sil['Fjob'])\n",
        "df1_sil['reason'] = le.fit_transform(df1_sil['reason'])\n",
        "df1_sil['guardian'] = le.fit_transform(df1_sil['guardian'])\n",
        "df1_sil"
      ],
      "metadata": {
        "id": "0Jfr3rhWlPhC"
      },
      "execution_count": null,
      "outputs": []
    },
    {
      "cell_type": "code",
      "source": [
        "def remove_outliers_iqr(df1_sil):\n",
        "  for col in df1_sil.select_dtypes(include=np.number).columns:\n",
        "      Q1 = df1_sil[col].quantile(0.25)\n",
        "      Q3 = df1_sil[col].quantile(0.75)\n",
        "      IQR = Q3 - Q1\n",
        "      lower_bound = Q1 - 1.5 * IQR\n",
        "      upper_bound = Q3 + 1.5 * IQR\n",
        "      df1_sil = df1_sil[(df1_sil[col] >= lower_bound) & (df1_sil[col] <= upper_bound)]\n",
        "  return df1_sil\n",
        "df1_temiz = remove_outliers_iqr(df1_sil)"
      ],
      "metadata": {
        "id": "7RV9Br_8GzBA"
      },
      "execution_count": null,
      "outputs": []
    },
    {
      "cell_type": "code",
      "source": [
        "from sklearn.pipeline import Pipeline\n",
        "from sklearn.preprocessing import StandardScaler, OneHotEncoder\n",
        "from sklearn.compose import ColumnTransformer\n",
        "from sklearn.ensemble import RandomForestRegressor"
      ],
      "metadata": {
        "id": "RlBGd--jMIOq"
      },
      "execution_count": null,
      "outputs": []
    },
    {
      "cell_type": "code",
      "source": [
        "X = df1_temiz.drop('G3', axis=1)\n",
        "y = df1_temiz['G3'].copy()"
      ],
      "metadata": {
        "id": "ui1UVSEVIyQR"
      },
      "execution_count": null,
      "outputs": []
    },
    {
      "cell_type": "code",
      "source": [
        "categorical_cols = X.select_dtypes(include=\"object\").columns\n",
        "numeric_cols = X.select_dtypes(include=\"number\").columns"
      ],
      "metadata": {
        "id": "dZYjm1MmLkLx"
      },
      "execution_count": null,
      "outputs": []
    },
    {
      "cell_type": "code",
      "source": [
        "numeric_transformer = StandardScaler()\n",
        "categorical_transformer = OneHotEncoder(handle_unknown=\"ignore\")"
      ],
      "metadata": {
        "id": "CUHEJGxALvg_"
      },
      "execution_count": null,
      "outputs": []
    },
    {
      "cell_type": "code",
      "source": [
        "from sklearn.model_selection import train_test_split\n",
        "X_train, X_test, y_train, y_test = train_test_split(X,y, random_state= 42,test_size=0.2)"
      ],
      "metadata": {
        "id": "Vfl3TkpXJo4Z"
      },
      "execution_count": null,
      "outputs": []
    },
    {
      "cell_type": "code",
      "source": [
        "preprocessor = ColumnTransformer(\n",
        "    transformers=[\n",
        "        (\"num\", numeric_transformer, numeric_cols),\n",
        "        (\"cat\", categorical_transformer, categorical_cols)\n",
        "    ]\n",
        ")\n",
        "\n",
        "full_pipeline_3 = Pipeline([\n",
        "    (\"preprocessor\", preprocessor),\n",
        "    (\"model\", RandomForestRegressor(random_state=42))\n",
        "])"
      ],
      "metadata": {
        "id": "uH-XAmxoMA0Y"
      },
      "execution_count": null,
      "outputs": []
    },
    {
      "cell_type": "code",
      "source": [
        "full_pipeline_3.fit(X_train, y_train)"
      ],
      "metadata": {
        "id": "xBgfqYhLKsF4"
      },
      "execution_count": null,
      "outputs": []
    },
    {
      "cell_type": "code",
      "source": [
        "full_pipeline_3.score(X_test,y_test), full_pipeline_3.score(X_train,y_train)"
      ],
      "metadata": {
        "id": "vqRp5Y9AK-jY"
      },
      "execution_count": null,
      "outputs": []
    },
    {
      "cell_type": "code",
      "source": [
        "feature_importances = full_pipeline_3.named_steps['model'].feature_importances_"
      ],
      "metadata": {
        "id": "ErMJawHYMmSg"
      },
      "execution_count": null,
      "outputs": []
    },
    {
      "cell_type": "code",
      "source": [
        "columns = numeric_cols.tolist() + list(full_pipeline_3.named_steps['preprocessor'].transformers_[1][1].get_feature_names_out(categorical_cols))"
      ],
      "metadata": {
        "id": "nRThRdlXOLKU"
      },
      "execution_count": null,
      "outputs": []
    },
    {
      "cell_type": "code",
      "source": [
        "feature_importances_df = pd.DataFrame({\n",
        "    'Feature': columns,\n",
        "    'Importance': feature_importances\n",
        "    })"
      ],
      "metadata": {
        "id": "9P1HoS_KOuX1"
      },
      "execution_count": null,
      "outputs": []
    },
    {
      "cell_type": "code",
      "source": [
        "feature_importances_df = feature_importances_df.sort_values(by='Importance',ascending=False)"
      ],
      "metadata": {
        "id": "KJSNpM68OuqZ"
      },
      "execution_count": null,
      "outputs": []
    },
    {
      "cell_type": "code",
      "source": [
        "feature_importances_df"
      ],
      "metadata": {
        "id": "KCavkyonO78G"
      },
      "execution_count": null,
      "outputs": []
    },
    {
      "cell_type": "code",
      "source": [
        "import matplotlib.pyplot as plt\n",
        "import seaborn as sns\n",
        "qrafik1 = feature_importances_df.head()\n",
        "\n",
        "plt.figure(figsize=(12,6))\n",
        "sns.barplot(data=qrafik1, x='Importance', y='Feature', hue='Feature', palette='viridis', legend=False)\n",
        "plt.title('En Yuksek',fontsize=20)\n",
        "plt.xlabel('Derece')\n",
        "plt.ylabel('Xususiyyeti')\n",
        "plt.tight_layout()\n",
        "plt.show();"
      ],
      "metadata": {
        "id": "7ZoOds_yO-rk"
      },
      "execution_count": null,
      "outputs": []
    },
    {
      "cell_type": "code",
      "source": [],
      "metadata": {
        "id": "POznCenSQZ9p"
      },
      "execution_count": null,
      "outputs": []
    }
  ]
}