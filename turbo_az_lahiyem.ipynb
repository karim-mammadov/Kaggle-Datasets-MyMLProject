{
  "nbformat": 4,
  "nbformat_minor": 0,
  "metadata": {
    "colab": {
      "provenance": [],
      "collapsed_sections": [
        "8V_g8hnMZpRf"
      ],
      "authorship_tag": "ABX9TyOdbKkqO7cHyUbu4DvV+aIz",
      "include_colab_link": true
    },
    "kernelspec": {
      "name": "python3",
      "display_name": "Python 3"
    },
    "language_info": {
      "name": "python"
    }
  },
  "cells": [
    {
      "cell_type": "markdown",
      "metadata": {
        "id": "view-in-github",
        "colab_type": "text"
      },
      "source": [
        "<a href=\"https://colab.research.google.com/github/karim-mammadov/Kaggle-Datasets-MyMLProject/blob/main/turbo_az_lahiyem.ipynb\" target=\"_parent\"><img src=\"https://colab.research.google.com/assets/colab-badge.svg\" alt=\"Open In Colab\"/></a>"
      ]
    },
    {
      "cell_type": "code",
      "execution_count": null,
      "metadata": {
        "id": "r-40nR7i0Drw"
      },
      "outputs": [],
      "source": [
        "from google.colab import files\n",
        "files.upload()"
      ]
    },
    {
      "cell_type": "code",
      "source": [
        "!mkdir -p ~/.kaggle\n",
        "!cp kaggle.json ~/.kaggle/\n",
        "!chmod 600 ~/.kaggle/kaggle.json"
      ],
      "metadata": {
        "id": "NdmVDEAU0Emx"
      },
      "execution_count": null,
      "outputs": []
    },
    {
      "cell_type": "code",
      "source": [
        "!kaggle datasets download -d sehriyarmemmedli/turboaz-cars-project"
      ],
      "metadata": {
        "id": "O9ioBSxw0G7Q"
      },
      "execution_count": null,
      "outputs": []
    },
    {
      "cell_type": "code",
      "source": [
        "import zipfile"
      ],
      "metadata": {
        "id": "1tX4pMQa0oTI"
      },
      "execution_count": null,
      "outputs": []
    },
    {
      "cell_type": "code",
      "source": [
        "with zipfile.ZipFile('/content/turboaz-cars-project.zip', 'r') as zip_ref:\n",
        "    zip_ref.extractall()"
      ],
      "metadata": {
        "id": "1mqsEbxq0MwF"
      },
      "execution_count": null,
      "outputs": []
    },
    {
      "cell_type": "code",
      "source": [
        "import pandas as pd\n",
        "import numpy as np\n",
        "import matplotlib.pyplot as plt\n",
        "import seaborn as sns"
      ],
      "metadata": {
        "id": "fVDXByo5xLDy"
      },
      "execution_count": null,
      "outputs": []
    },
    {
      "cell_type": "markdown",
      "source": [
        "# DATA CLEANING"
      ],
      "metadata": {
        "id": "y2pFtqaUZSpL"
      }
    },
    {
      "cell_type": "code",
      "source": [
        "pd.set_option('display.max_columns', None)\n"
      ],
      "metadata": {
        "id": "0m6Z2vP1UjZc"
      },
      "execution_count": null,
      "outputs": []
    },
    {
      "cell_type": "code",
      "source": [
        "df = pd.read_csv('/content/cars.csv')\n",
        "df"
      ],
      "metadata": {
        "id": "-7V1b7Lv0u2o"
      },
      "execution_count": null,
      "outputs": []
    },
    {
      "cell_type": "code",
      "source": [
        "df['Mühərrik'].value_counts()"
      ],
      "metadata": {
        "id": "ycfILibrGKMj"
      },
      "execution_count": null,
      "outputs": []
    },
    {
      "cell_type": "code",
      "source": [
        "df.columns"
      ],
      "metadata": {
        "id": "TyWqG9aT05Fr"
      },
      "execution_count": null,
      "outputs": []
    },
    {
      "cell_type": "code",
      "source": [
        "df.isna().sum()"
      ],
      "metadata": {
        "id": "PKk9yWL81XXI"
      },
      "execution_count": null,
      "outputs": []
    },
    {
      "cell_type": "code",
      "source": [
        "df.isnull().sum()"
      ],
      "metadata": {
        "id": "i3PAV-oK18Es"
      },
      "execution_count": null,
      "outputs": []
    },
    {
      "cell_type": "code",
      "source": [
        "df=df.drop(['id_x','car_rel_url_x','datetime_scrape','datetime_product','img_url','id_y','cars_id','car_rel_url_y','car_details_id_x',\n",
        "         'car_details_id_y','car_rel_url','price_y','currency_y','name','views','datetime'],axis=1)"
      ],
      "metadata": {
        "id": "hllLJDBd2BIl"
      },
      "execution_count": null,
      "outputs": []
    },
    {
      "cell_type": "code",
      "source": [
        "df.columns"
      ],
      "metadata": {
        "id": "9nUgpv7V3LY6"
      },
      "execution_count": null,
      "outputs": []
    },
    {
      "cell_type": "code",
      "source": [
        "df=df.drop(['Şəhər','owner_name','extra_info'],axis=1)"
      ],
      "metadata": {
        "id": "zNUy8EBl8szC"
      },
      "execution_count": null,
      "outputs": []
    },
    {
      "cell_type": "code",
      "source": [
        "df.dtypes"
      ],
      "metadata": {
        "id": "sOVbD2w1B9Gd"
      },
      "execution_count": null,
      "outputs": []
    },
    {
      "cell_type": "code",
      "source": [
        "df.columns"
      ],
      "metadata": {
        "id": "vEY-t66L_58U"
      },
      "execution_count": null,
      "outputs": []
    },
    {
      "cell_type": "code",
      "source": [
        "df['currency_x'].unique()"
      ],
      "metadata": {
        "id": "2113PuExCjQd"
      },
      "execution_count": null,
      "outputs": []
    },
    {
      "cell_type": "code",
      "source": [
        "df['price_x'].unique()"
      ],
      "metadata": {
        "id": "TBftRCU-C3Lm"
      },
      "execution_count": null,
      "outputs": []
    },
    {
      "cell_type": "code",
      "source": [
        "currency_rates = {\n",
        "    'AZN': 1.00,\n",
        "    '$': 1.70,\n",
        "    '€': 1.95\n",
        "}\n",
        "\n",
        "df['price_azn'] = df['price_x'] * df['currency_x'].map(currency_rates)"
      ],
      "metadata": {
        "id": "CrfDJVrcCLj_"
      },
      "execution_count": null,
      "outputs": []
    },
    {
      "cell_type": "code",
      "source": [
        "df['price_azn'].unique()"
      ],
      "metadata": {
        "id": "JIyaXpJJDzDd"
      },
      "execution_count": null,
      "outputs": []
    },
    {
      "cell_type": "code",
      "source": [
        "df.dtypes"
      ],
      "metadata": {
        "id": "6dzogeUCFaS8"
      },
      "execution_count": null,
      "outputs": []
    },
    {
      "cell_type": "code",
      "source": [
        "df['Ban növü'] = df['Ban növü'].str.split(r'[/,]').str[0]"
      ],
      "metadata": {
        "id": "dU1kshOwEl9L"
      },
      "execution_count": null,
      "outputs": []
    },
    {
      "cell_type": "code",
      "source": [
        "df['Mühərrik_həcmi'] = df['Mühərrik'].str.extract(r'(\\d\\.\\d\\s?L)')"
      ],
      "metadata": {
        "id": "s2Bo9r4AEv7a"
      },
      "execution_count": null,
      "outputs": []
    },
    {
      "cell_type": "code",
      "source": [
        "df['Yanacaq_novu'] = df['Mühərrik'].str.extract(r'(Benzin|Dizel|Hibrid|Elektrik)', expand=False)"
      ],
      "metadata": {
        "id": "JqTFdJNIE1FD"
      },
      "execution_count": null,
      "outputs": []
    },
    {
      "cell_type": "code",
      "source": [
        "df['Yürüş'] = df['Yürüş'].str.replace(r'[^0-9]', '', regex=True).astype(float)"
      ],
      "metadata": {
        "id": "scxk5aOlE5W4"
      },
      "execution_count": null,
      "outputs": []
    },
    {
      "cell_type": "code",
      "source": [
        "df['Sahiblər'] = df['Sahiblər'].str.extract(r'(\\d)').astype(float)"
      ],
      "metadata": {
        "id": "II55VihGFYB0"
      },
      "execution_count": null,
      "outputs": []
    },
    {
      "cell_type": "code",
      "source": [
        "df['Sürətlər qutusu'] = df['Sürətlər qutusu'].str.strip().str.lower()\n",
        "df['Ötürücü'] = df['Ötürücü'].str.strip().str.lower()"
      ],
      "metadata": {
        "id": "d6c9M5PhFmO4"
      },
      "execution_count": null,
      "outputs": []
    },
    {
      "cell_type": "code",
      "source": [
        "df['Bazar_novu'] = df['Hansı bazar üçün yığılıb'].str.extract(r'(Avropa|Amerika|Yerli)', expand=False)"
      ],
      "metadata": {
        "id": "8n4fL1_5FnrA"
      },
      "execution_count": null,
      "outputs": []
    },
    {
      "cell_type": "code",
      "source": [
        "df.drop(columns=['engine_displacement_unit', 'kilometrage_unit'], inplace=True)"
      ],
      "metadata": {
        "id": "Q3NfAqrhGDTQ"
      },
      "execution_count": null,
      "outputs": []
    },
    {
      "cell_type": "code",
      "source": [
        "df.drop(columns=['salon', 'shop_name','vin'], inplace=True)"
      ],
      "metadata": {
        "id": "ZQuHc9rDG0jg"
      },
      "execution_count": null,
      "outputs": []
    },
    {
      "cell_type": "code",
      "source": [
        "df.drop(columns=['description', 'updated','phone'], inplace=True)"
      ],
      "metadata": {
        "id": "q_ucvqn_IM2O"
      },
      "execution_count": null,
      "outputs": []
    },
    {
      "cell_type": "code",
      "source": [
        "df['attributes'].unique()"
      ],
      "metadata": {
        "id": "gOZi-gFMIaPt"
      },
      "execution_count": null,
      "outputs": []
    },
    {
      "cell_type": "code",
      "source": [
        "df['attributes'].nunique()"
      ],
      "metadata": {
        "id": "xpgRRtY4If-i"
      },
      "execution_count": null,
      "outputs": []
    },
    {
      "cell_type": "code",
      "source": [
        "df['Mühərrik'].unique()"
      ],
      "metadata": {
        "id": "yhdIcXirQbHv"
      },
      "execution_count": null,
      "outputs": []
    },
    {
      "cell_type": "code",
      "source": [
        "for col in df.select_dtypes(include=['object']).columns:\n",
        "    df[col] = df[col].str.replace(r'[.*?\\/,]', ' ', regex=True).str.strip()"
      ],
      "metadata": {
        "id": "TEUb3OoMRYI7"
      },
      "execution_count": null,
      "outputs": []
    },
    {
      "cell_type": "code",
      "source": [
        "df['Mühərrik'].unique()"
      ],
      "metadata": {
        "id": "6dmJ_rUoTHHf"
      },
      "execution_count": null,
      "outputs": []
    },
    {
      "cell_type": "code",
      "source": [
        "df['Mühərrik']"
      ],
      "metadata": {
        "id": "VM4WADNaUVKN"
      },
      "execution_count": null,
      "outputs": []
    },
    {
      "cell_type": "code",
      "source": [
        "df['Qəzalı'].unique()"
      ],
      "metadata": {
        "id": "LhKsRWbVVarR"
      },
      "execution_count": null,
      "outputs": []
    },
    {
      "cell_type": "code",
      "source": [
        "nan_percent = df.isna().mean().sort_values(ascending=False) * 100\n",
        "print(nan_percent[nan_percent > 0])"
      ],
      "metadata": {
        "id": "LP-V1iFxXOHY"
      },
      "execution_count": null,
      "outputs": []
    },
    {
      "cell_type": "code",
      "source": [
        "df['Qəzalı'] = df['Qəzalı'].fillna('Qəzalı deyil')"
      ],
      "metadata": {
        "id": "fGexyewRViEm"
      },
      "execution_count": null,
      "outputs": []
    },
    {
      "cell_type": "code",
      "source": [
        "df['Qəzalı'] = df['Qəzalı'].replace('Bəli', 'Qəzalıdır')"
      ],
      "metadata": {
        "id": "N85o3jpLWQGE"
      },
      "execution_count": null,
      "outputs": []
    },
    {
      "cell_type": "code",
      "source": [
        "df['Qəzalı'].unique()"
      ],
      "metadata": {
        "id": "ZgB91-h9VpVj"
      },
      "execution_count": null,
      "outputs": []
    },
    {
      "cell_type": "code",
      "source": [
        "df['Yanacaq_novu'].unique()"
      ],
      "metadata": {
        "id": "F5TipeE_V5Ek"
      },
      "execution_count": null,
      "outputs": []
    },
    {
      "cell_type": "code",
      "source": [
        "df['Yanacaq_novu'] = df['Yanacaq_novu'].fillna('Bilinmir')"
      ],
      "metadata": {
        "id": "iHsujoojV80x"
      },
      "execution_count": null,
      "outputs": []
    },
    {
      "cell_type": "code",
      "source": [
        "df['Yanacaq_novu'].unique()"
      ],
      "metadata": {
        "id": "7zl-eXHAV-K-"
      },
      "execution_count": null,
      "outputs": []
    },
    {
      "cell_type": "code",
      "source": [
        "df['loan'].unique()"
      ],
      "metadata": {
        "id": "Q8su7nUUWAGs"
      },
      "execution_count": null,
      "outputs": []
    },
    {
      "cell_type": "code",
      "source": [
        "df['loan'] = df['loan'].fillna('Kreditdə deil')"
      ],
      "metadata": {
        "id": "nNiyi2BoYT4f"
      },
      "execution_count": null,
      "outputs": []
    },
    {
      "cell_type": "code",
      "source": [
        "df['loan'].unique()"
      ],
      "metadata": {
        "id": "FpA2IrSYYbbd"
      },
      "execution_count": null,
      "outputs": []
    },
    {
      "cell_type": "code",
      "source": [
        "df['Bazar_novu'].unique()"
      ],
      "metadata": {
        "id": "6FiLLxZ9Y4jJ"
      },
      "execution_count": null,
      "outputs": []
    },
    {
      "cell_type": "code",
      "source": [
        "df['Bazar_novu'] = df['Bazar_novu'].fillna('Bilinmir')"
      ],
      "metadata": {
        "id": "MR4XeRysY7Sn"
      },
      "execution_count": null,
      "outputs": []
    },
    {
      "cell_type": "code",
      "source": [
        "df['Bazar_novu'].unique()"
      ],
      "metadata": {
        "id": "9083wl35ZOXl"
      },
      "execution_count": null,
      "outputs": []
    },
    {
      "cell_type": "code",
      "source": [
        "df['vip'].unique()"
      ],
      "metadata": {
        "id": "SWEKwwArai2B"
      },
      "execution_count": null,
      "outputs": []
    },
    {
      "cell_type": "code",
      "source": [
        "df['vip'] = df['vip'].fillna('Yoxdur')"
      ],
      "metadata": {
        "id": "II_qDxGwamLC"
      },
      "execution_count": null,
      "outputs": []
    },
    {
      "cell_type": "code",
      "source": [
        "df['vip'].unique()"
      ],
      "metadata": {
        "id": "FU-APvrtavB7"
      },
      "execution_count": null,
      "outputs": []
    },
    {
      "cell_type": "code",
      "source": [
        "df['Hansı bazar üçün yığılıb'].unique()"
      ],
      "metadata": {
        "id": "PDS74ezhayLe"
      },
      "execution_count": null,
      "outputs": []
    },
    {
      "cell_type": "code",
      "source": [
        "df['Hansı bazar üçün yığılıb'] = df['Hansı bazar üçün yığılıb'].fillna('Bilinmir')"
      ],
      "metadata": {
        "id": "UjLHuxlba2tm"
      },
      "execution_count": null,
      "outputs": []
    },
    {
      "cell_type": "code",
      "source": [
        "df['Hansı bazar üçün yığılıb'].unique()"
      ],
      "metadata": {
        "id": "rDgEg6rOa7Y8"
      },
      "execution_count": null,
      "outputs": []
    },
    {
      "cell_type": "code",
      "source": [
        "df['Yerlərin sayı'].unique()"
      ],
      "metadata": {
        "id": "Y-l-xoXIa-O2"
      },
      "execution_count": null,
      "outputs": []
    },
    {
      "cell_type": "code",
      "source": [
        "df['Yerlərin sayı'] = df['Yerlərin sayı'].fillna('Bilinmir')"
      ],
      "metadata": {
        "id": "MwcD6P8ebB7P"
      },
      "execution_count": null,
      "outputs": []
    },
    {
      "cell_type": "code",
      "source": [
        "df['Yerlərin sayı'].unique()"
      ],
      "metadata": {
        "id": "U4ZRqOMibK-x"
      },
      "execution_count": null,
      "outputs": []
    },
    {
      "cell_type": "code",
      "source": [
        "df['Qəzalı'].unique()"
      ],
      "metadata": {
        "id": "JCRhQiS9bvW7"
      },
      "execution_count": null,
      "outputs": []
    },
    {
      "cell_type": "code",
      "source": [
        "print(df['Qəzalı'].value_counts())"
      ],
      "metadata": {
        "id": "2tKFoMRgb96p"
      },
      "execution_count": null,
      "outputs": []
    },
    {
      "cell_type": "code",
      "source": [
        "print(df['spare_parts'].value_counts())"
      ],
      "metadata": {
        "id": "RKlJD2KVcMYN"
      },
      "execution_count": null,
      "outputs": []
    },
    {
      "cell_type": "code",
      "source": [
        "print(df['featured'].value_counts())"
      ],
      "metadata": {
        "id": "cFOt5LtFcWgd"
      },
      "execution_count": null,
      "outputs": []
    },
    {
      "cell_type": "code",
      "source": [
        "df=df.drop(['featured','spare_parts'],axis=1)\n",
        "df"
      ],
      "metadata": {
        "id": "T_K_MSEScrWZ"
      },
      "execution_count": null,
      "outputs": []
    },
    {
      "cell_type": "code",
      "source": [
        "df['barter'].unique()"
      ],
      "metadata": {
        "id": "Qq4BFe8vdKVi"
      },
      "execution_count": null,
      "outputs": []
    },
    {
      "cell_type": "code",
      "source": [
        "df['barter'] = df['barter'].fillna('Mümkün deil')"
      ],
      "metadata": {
        "id": "UF_SwwT1dM9Y"
      },
      "execution_count": null,
      "outputs": []
    },
    {
      "cell_type": "code",
      "source": [
        "df['barter'].unique()"
      ],
      "metadata": {
        "id": "VnWYAp_Xduo7"
      },
      "execution_count": null,
      "outputs": []
    },
    {
      "cell_type": "code",
      "source": [
        "df"
      ],
      "metadata": {
        "id": "qMyUEgx3d0Hv"
      },
      "execution_count": null,
      "outputs": []
    },
    {
      "cell_type": "code",
      "source": [
        "df['city'].unique()"
      ],
      "metadata": {
        "id": "lKAwJq37lS3c"
      },
      "execution_count": null,
      "outputs": []
    },
    {
      "cell_type": "code",
      "source": [
        "df['city'] = df['city'].str.title()"
      ],
      "metadata": {
        "id": "F64AxeFqm0xz"
      },
      "execution_count": null,
      "outputs": []
    },
    {
      "cell_type": "code",
      "source": [
        "df['city'].unique()"
      ],
      "metadata": {
        "id": "F1SgjQLIm5Z8"
      },
      "execution_count": null,
      "outputs": []
    },
    {
      "cell_type": "code",
      "source": [
        "df['Buraxılış ili'].unique()"
      ],
      "metadata": {
        "id": "JFbJkDiWn4Nv"
      },
      "execution_count": null,
      "outputs": []
    },
    {
      "cell_type": "code",
      "source": [
        "print(df['Buraxılış ili'].value_counts())"
      ],
      "metadata": {
        "id": "mpshOxdqoIUl"
      },
      "execution_count": null,
      "outputs": []
    },
    {
      "cell_type": "code",
      "source": [
        "# df['Klassika'] = (df['Buraxılış ili'] <= 1980).astype(int)"
      ],
      "metadata": {
        "id": "yJO-h6snrRwX"
      },
      "execution_count": null,
      "outputs": []
    },
    {
      "cell_type": "code",
      "source": [
        "df['Sahiblər'].unique()   #max_flow   median  nan"
      ],
      "metadata": {
        "id": "uydvrZG6qUbh"
      },
      "execution_count": null,
      "outputs": []
    },
    {
      "cell_type": "code",
      "source": [
        "df['Sahiblər'].value_counts()"
      ],
      "metadata": {
        "id": "efZbc6tITcgU"
      },
      "execution_count": null,
      "outputs": []
    },
    {
      "cell_type": "code",
      "source": [
        "# df['Sahiblər'] = df['Sahiblər'].fillna('Təzə')"
      ],
      "metadata": {
        "id": "Jhht_eNOqqNd"
      },
      "execution_count": null,
      "outputs": []
    },
    {
      "cell_type": "code",
      "source": [
        "nan_percent = df.isna().mean().sort_values(ascending=False) * 100\n",
        "print(nan_percent[nan_percent > 0])"
      ],
      "metadata": {
        "id": "BjvSfoxAUzXK"
      },
      "execution_count": null,
      "outputs": []
    },
    {
      "cell_type": "code",
      "source": [
        "df.drop(columns=['currency_x', 'day','hour'], inplace=True)"
      ],
      "metadata": {
        "id": "6a2NOsYDWE2t"
      },
      "execution_count": null,
      "outputs": []
    },
    {
      "cell_type": "code",
      "source": [
        "df['at_gucu'] = df['Mühərrik'].str.extract(r'(\\d+)\\s*a[\\.\\s]*g').astype(float)"
      ],
      "metadata": {
        "id": "p3SmPJ1MyVXU"
      },
      "execution_count": null,
      "outputs": []
    },
    {
      "cell_type": "code",
      "source": [
        "df.drop(columns=['Mühərrik'], inplace=True)"
      ],
      "metadata": {
        "id": "WVCALhqhy9fL"
      },
      "execution_count": null,
      "outputs": []
    },
    {
      "cell_type": "code",
      "source": [
        "df['Yerlərin sayı'] = df['Yerlərin sayı'].str.replace('+','', regex=False)"
      ],
      "metadata": {
        "id": "VcaK9TlJzQfN"
      },
      "execution_count": null,
      "outputs": []
    },
    {
      "cell_type": "code",
      "source": [
        "df['Yerlərin sayı'] = df['Yerlərin sayı'].replace('Bilinmir', '0')"
      ],
      "metadata": {
        "id": "keNVi8hTzvVJ"
      },
      "execution_count": null,
      "outputs": []
    },
    {
      "cell_type": "code",
      "source": [
        "df['Yerlərin sayı'] = df['Yerlərin sayı'].astype(int)"
      ],
      "metadata": {
        "id": "vrC0I8xz0SqA"
      },
      "execution_count": null,
      "outputs": []
    },
    {
      "cell_type": "code",
      "source": [
        "print(df['Vəziyyəti'].unique())"
      ],
      "metadata": {
        "id": "AHcCDRK10ZQU"
      },
      "execution_count": null,
      "outputs": []
    },
    {
      "cell_type": "code",
      "source": [
        "df['Vəziyyəti'] = df['Vəziyyəti'].fillna('Vuruğu yoxdur rənglənməyib')"
      ],
      "metadata": {
        "id": "9RL-wcO-0t_V"
      },
      "execution_count": null,
      "outputs": []
    },
    {
      "cell_type": "code",
      "source": [
        "df['Vəziyyəti'].unique()"
      ],
      "metadata": {
        "id": "vz0L6Kno2Ab8"
      },
      "execution_count": null,
      "outputs": []
    },
    {
      "cell_type": "code",
      "source": [
        "df['vurulub'] = df['Vəziyyəti'].str.contains('Vuruğu var').astype(int)\n",
        "df['rənglənib'] = df['Vəziyyəti'].str.contains('rənglənib').astype(int)"
      ],
      "metadata": {
        "id": "KsSfPZA82EfW"
      },
      "execution_count": null,
      "outputs": []
    },
    {
      "cell_type": "code",
      "source": [
        "df['vurulub'].value_counts()"
      ],
      "metadata": {
        "id": "EUhBSsmR3NzW"
      },
      "execution_count": null,
      "outputs": []
    },
    {
      "cell_type": "code",
      "source": [
        "df['rənglənib'].value_counts()"
      ],
      "metadata": {
        "id": "vTyx2MHo3SaK"
      },
      "execution_count": null,
      "outputs": []
    },
    {
      "cell_type": "code",
      "source": [
        "df.drop(columns=['Vəziyyəti'], inplace=True)"
      ],
      "metadata": {
        "id": "ryatzie73acS"
      },
      "execution_count": null,
      "outputs": []
    },
    {
      "cell_type": "code",
      "source": [
        "df['vip'].value_counts(dropna=False)"
      ],
      "metadata": {
        "id": "haFBWCdX3z5G"
      },
      "execution_count": null,
      "outputs": []
    },
    {
      "cell_type": "code",
      "source": [
        "df['vip'] = df['vip'].replace('vipped-icon', 'VIP')"
      ],
      "metadata": {
        "id": "t7psp-bg4Gbn"
      },
      "execution_count": null,
      "outputs": []
    },
    {
      "cell_type": "code",
      "source": [
        "df.drop(columns=['price_x'], inplace=True)"
      ],
      "metadata": {
        "id": "YyjeCBA35e8t"
      },
      "execution_count": null,
      "outputs": []
    },
    {
      "cell_type": "code",
      "source": [
        "df.rename(columns={'qiymet': 'Qiymət'}, inplace=True)"
      ],
      "metadata": {
        "id": "U27fBroW50D-"
      },
      "execution_count": null,
      "outputs": []
    },
    {
      "cell_type": "code",
      "source": [
        "df.drop(columns=['attributes'], inplace=True)"
      ],
      "metadata": {
        "id": "wJa-U04w6R1r"
      },
      "execution_count": null,
      "outputs": []
    },
    {
      "cell_type": "code",
      "source": [
        "df.drop(columns=['production_year'], inplace=True)"
      ],
      "metadata": {
        "id": "bSfsdNek8F1l"
      },
      "execution_count": null,
      "outputs": []
    },
    {
      "cell_type": "code",
      "source": [
        "df['Mühərrik_həcmi'] = df['Mühərrik_həcmi'].str.replace('L', '', regex=False).str.strip()"
      ],
      "metadata": {
        "id": "ppo9PCPi9LFm"
      },
      "execution_count": null,
      "outputs": []
    },
    {
      "cell_type": "code",
      "source": [
        "# df['Mühərrik həcmi'] = df['Mühərrik həcmi'].str.replace(' ', '').astype(float)"
      ],
      "metadata": {
        "id": "9QNQ47y7yt57"
      },
      "execution_count": null,
      "outputs": []
    },
    {
      "cell_type": "code",
      "source": [
        "df.rename(columns={\n",
        "    'price_azn':'Qiymət',\n",
        "    'city':'Şəhər',\n",
        "    'engine_displacement_num':'Mühərrik həcmi (rəqəm)',\n",
        "    'kilometrage_num':'Yürüş (km)',\n",
        "    'barter':'Barter',\n",
        "    'loan':'Kredit',\n",
        "    'vip':'Vip',\n",
        "    'at_gucu':'At gücü',\n",
        "    'vurulub':'Vurulub',\n",
        "    'rənglənib':'Rənglənib',\n",
        "    'Mühərrik_həcmi':'Mühərrik həcmi',\n",
        "    'Yanacaq_novu':'Yanacaq növü',\n",
        "    'Bazar_novu':'Bazar növü'\n",
        "\n",
        "\n",
        "},inplace=True)"
      ],
      "metadata": {
        "id": "RX0J6-UR6ZCP"
      },
      "execution_count": null,
      "outputs": []
    },
    {
      "cell_type": "code",
      "source": [
        "df"
      ],
      "metadata": {
        "id": "5AR4swvZ4ynt"
      },
      "execution_count": null,
      "outputs": []
    },
    {
      "cell_type": "code",
      "source": [
        "df['Sahiblər'].nunique()"
      ],
      "metadata": {
        "id": "DDgX6uff4y_s"
      },
      "execution_count": null,
      "outputs": []
    },
    {
      "cell_type": "code",
      "source": [
        "df['Sahiblər'].value_counts()"
      ],
      "metadata": {
        "id": "tPbw-mDM9U8T"
      },
      "execution_count": null,
      "outputs": []
    },
    {
      "cell_type": "code",
      "source": [
        "nan_faiz = df['Sahiblər'].isna().mean() * 100\n",
        "print(f\"NaN dəyərlərin faizi: {nan_faiz:.2f}%\")"
      ],
      "metadata": {
        "id": "4hqYl3fq9ZRV"
      },
      "execution_count": null,
      "outputs": []
    },
    {
      "cell_type": "code",
      "source": [
        "df['Sahiblər'] = df['Sahiblər'].fillna(df['Sahiblər'].mean())"
      ],
      "metadata": {
        "id": "R5wMPoA09q7H"
      },
      "execution_count": null,
      "outputs": []
    },
    {
      "cell_type": "code",
      "source": [
        "df['Sahiblər'].value_counts()"
      ],
      "metadata": {
        "id": "zX8fVxUNu2HN"
      },
      "execution_count": null,
      "outputs": []
    },
    {
      "cell_type": "code",
      "source": [
        "df.drop(columns=['Mühərrik həcmi (rəqəm)','Yürüş'], inplace=True)"
      ],
      "metadata": {
        "id": "ITgNFlJQEo0-"
      },
      "execution_count": null,
      "outputs": []
    },
    {
      "cell_type": "code",
      "source": [
        "df"
      ],
      "metadata": {
        "id": "ZmoBrx3Yu4Tt"
      },
      "execution_count": null,
      "outputs": []
    },
    {
      "cell_type": "code",
      "source": [
        "df.dtypes"
      ],
      "metadata": {
        "id": "oAmr8wBbwSQW"
      },
      "execution_count": null,
      "outputs": []
    },
    {
      "cell_type": "markdown",
      "source": [
        "# DATA VISUALIZATION"
      ],
      "metadata": {
        "id": "8V_g8hnMZpRf"
      }
    },
    {
      "cell_type": "code",
      "source": [
        "sns.histplot(df['Qiymət'], bins=50, kde=True)\n",
        "plt.title(\"Avtomobil qiymətlərinin paylanması\")\n",
        "plt.xlabel(\"Qiymət (AZN)\")\n",
        "plt.ylabel(\"Say\")\n",
        "plt.show()"
      ],
      "metadata": {
        "id": "eK8WQGGuZrPI"
      },
      "execution_count": null,
      "outputs": []
    },
    {
      "cell_type": "code",
      "source": [
        "avg_price_marka = df.groupby(\"Marka\")[\"Qiymət\"].mean().sort_values(ascending=False).head(10)\n",
        "sns.barplot(x=avg_price_marka.values, y=avg_price_marka.index)\n",
        "plt.title(\"Ən bahalı 10 marka (Orta qiymət)\")\n",
        "plt.xlabel(\"Orta qiymət\")\n",
        "plt.ylabel(\"Marka\")\n",
        "plt.show()"
      ],
      "metadata": {
        "id": "yu62BElUZ3qg"
      },
      "execution_count": null,
      "outputs": []
    },
    {
      "cell_type": "code",
      "source": [
        "sns.scatterplot(data=df, x=\"Yürüş (km)\", y=\"Qiymət\", alpha=0.3)\n",
        "plt.title(\"Yürüş və Qiymət arasında əlaqə\")\n",
        "plt.xlabel(\"Yürüş (km)\")\n",
        "plt.ylabel(\"Qiymət (AZN)\")\n",
        "plt.show()"
      ],
      "metadata": {
        "id": "4lWtdt6NaB0R"
      },
      "execution_count": null,
      "outputs": []
    },
    {
      "cell_type": "code",
      "source": [
        "plt.figure(figsize=(16, 6))\n",
        "sns.boxplot(x=\"Buraxılış ili\", y=\"Qiymət\", data=df)\n",
        "plt.xticks(rotation=90)\n",
        "plt.title(\"Buraxılış ili üzrə qiymət\")\n",
        "plt.tight_layout()\n",
        "plt.show()"
      ],
      "metadata": {
        "id": "3oUHwEFYaFQ1"
      },
      "execution_count": null,
      "outputs": []
    },
    {
      "cell_type": "code",
      "source": [
        "sns.boxplot(data=df, x=\"Yanacaq növü\", y=\"Qiymət\")\n",
        "plt.title(\"Yanacaq növünə görə qiymət\")\n",
        "plt.show()"
      ],
      "metadata": {
        "id": "0jwHyokMaLIi"
      },
      "execution_count": null,
      "outputs": []
    },
    {
      "cell_type": "code",
      "source": [
        "city_counts = df[\"Şəhər\"].value_counts().head(10)\n",
        "sns.barplot(x=city_counts.values, y=city_counts.index)\n",
        "plt.title(\"Ən çox elan verilən 10 şəhər\")\n",
        "plt.xlabel(\"Elan sayı\")\n",
        "plt.ylabel(\"Şəhər\")\n",
        "plt.show()"
      ],
      "metadata": {
        "id": "A1CPnf0KaS4l"
      },
      "execution_count": null,
      "outputs": []
    },
    {
      "cell_type": "markdown",
      "source": [
        "# Build a Model"
      ],
      "metadata": {
        "id": "XjSwmnLZzdOG"
      }
    },
    {
      "cell_type": "code",
      "source": [
        "from sklearn.linear_model import LinearRegression\n",
        "from sklearn.impute import SimpleImputer\n",
        "from sklearn.preprocessing import StandardScaler,OneHotEncoder\n",
        "from sklearn.compose import ColumnTransformer\n",
        "from sklearn.pipeline import Pipeline\n",
        "from sklearn.metrics import mean_squared_error\n",
        "from sklearn.linear_model import Ridge\n",
        "from sklearn.preprocessing import PolynomialFeatures"
      ],
      "metadata": {
        "id": "akxERg8uzw7_"
      },
      "execution_count": null,
      "outputs": []
    },
    {
      "cell_type": "code",
      "source": [
        "X=df.drop('Qiymət',axis=1)\n",
        "y=df['Qiymət'].copy()"
      ],
      "metadata": {
        "id": "_o4JCwdPwZxw"
      },
      "execution_count": null,
      "outputs": []
    },
    {
      "cell_type": "code",
      "source": [
        "from sklearn.model_selection import train_test_split\n",
        "X_train,X_test,y_train,y_test=train_test_split(X,y, test_size=0.2, random_state=42)"
      ],
      "metadata": {
        "id": "MtMjb3TQ0N3O"
      },
      "execution_count": null,
      "outputs": []
    },
    {
      "cell_type": "code",
      "source": [
        "num_feature=X_train.select_dtypes(include=[np.number]).columns\n",
        "cat_feature=X_train.select_dtypes(exclude=[np.number]).columns"
      ],
      "metadata": {
        "id": "4CgP8c0Q0XqR"
      },
      "execution_count": null,
      "outputs": []
    },
    {
      "cell_type": "code",
      "source": [
        "num_feature"
      ],
      "metadata": {
        "id": "_VTSI2O30nZu"
      },
      "execution_count": null,
      "outputs": []
    },
    {
      "cell_type": "code",
      "source": [
        "cat_feature"
      ],
      "metadata": {
        "id": "Pw4vwK8y0p35"
      },
      "execution_count": null,
      "outputs": []
    },
    {
      "cell_type": "code",
      "source": [
        "num_pipeline=Pipeline([\n",
        "    ('impute',SimpleImputer(strategy='median')),\n",
        "    ('encode',StandardScaler())\n",
        "])\n",
        "\n",
        "cat_pipeline=Pipeline([\n",
        "    ('impute',SimpleImputer(strategy='constant',fill_value='missing')),\n",
        "    ('encode', OneHotEncoder(handle_unknown='ignore',sparse_output=False))\n",
        "\n",
        "])\n",
        "\n",
        "transformer=ColumnTransformer([\n",
        "    ('num',num_pipeline,num_feature),\n",
        "    ('cat',cat_pipeline,cat_feature)\n",
        "],remainder='passthrough')\n",
        "\n",
        "estimator=Ridge()\n",
        "\n",
        "full_pipeline=Pipeline([\n",
        "    ('preprocessing',transformer),\n",
        "    ('estimator',estimator)\n",
        "])"
      ],
      "metadata": {
        "id": "h0_8mfBe0qtC"
      },
      "execution_count": null,
      "outputs": []
    },
    {
      "cell_type": "code",
      "source": [
        "full_pipeline.fit(X_train[:5000], y_train[:5000])"
      ],
      "metadata": {
        "id": "Rr-3R5Xj08Mf"
      },
      "execution_count": null,
      "outputs": []
    },
    {
      "cell_type": "code",
      "source": [
        "full_pipeline.score(X_train, y_train), full_pipeline.score(X_test, y_test)"
      ],
      "metadata": {
        "id": "1HWZe7iY1CPp"
      },
      "execution_count": null,
      "outputs": []
    },
    {
      "cell_type": "code",
      "source": [
        "print(X_train.shape, X_test.shape)"
      ],
      "metadata": {
        "id": "7J-eN_a-UHar"
      },
      "execution_count": null,
      "outputs": []
    },
    {
      "cell_type": "code",
      "source": [
        "from sklearn.linear_model import Lasso\n",
        "from sklearn.ensemble import StackingRegressor\n",
        "from sklearn.svm import SVR\n",
        "from sklearn.ensemble import RandomForestRegressor, GradientBoostingRegressor, StackingRegressor\n",
        "from sklearn.linear_model import LinearRegression\n",
        "from sklearn.pipeline import Pipeline"
      ],
      "metadata": {
        "id": "h6GStugH3pp2"
      },
      "execution_count": null,
      "outputs": []
    },
    {
      "cell_type": "code",
      "source": [
        "combo_learning = [\n",
        "    ('rf', RandomForestRegressor(n_estimators=20, max_depth=10, random_state=42, n_jobs=-1)),\n",
        "    ('gb', GradientBoostingRegressor(n_estimators=20, max_depth=5, random_state=42))\n",
        "]\n",
        "\n",
        "# from sklearn.ensemble import HistGradientBoostingRegressor\n",
        "# combo_learning = [\n",
        "#     ('rf', RandomForestRegressor(n_estimators=10, max_depth=5, random_state=42, n_jobs=-1)),\n",
        "#     ('hgb', HistGradientBoostingRegressor(max_iter=10, max_depth=3, random_state=42))\n",
        "# ]\n",
        "\n",
        "\n",
        "estimator_2 = LinearRegression()\n",
        "\n",
        "stacking_model = StackingRegressor(estimators=combo_learning, final_estimator=estimator_2)\n"
      ],
      "metadata": {
        "id": "hY7orueH_bdm"
      },
      "execution_count": null,
      "outputs": []
    },
    {
      "cell_type": "code",
      "source": [
        "full_pipeline_2 = Pipeline([\n",
        "    ('preprocessing', transformer),\n",
        "    ('estimator', stacking_model)\n",
        "])\n"
      ],
      "metadata": {
        "id": "9EtgHuoGACda"
      },
      "execution_count": null,
      "outputs": []
    },
    {
      "cell_type": "code",
      "source": [
        "full_pipeline_2.fit(X_train[:7000], y_train[:7000])"
      ],
      "metadata": {
        "id": "hcQEhrbp5aNY"
      },
      "execution_count": null,
      "outputs": []
    },
    {
      "cell_type": "code",
      "source": [
        "full_pipeline_2.score(X_train, y_train), full_pipeline_2.score(X_test, y_test)"
      ],
      "metadata": {
        "id": "IHzSBdaV5d1l"
      },
      "execution_count": null,
      "outputs": []
    },
    {
      "cell_type": "code",
      "source": [
        "y_pred = full_pipeline_2.predict(X_test)"
      ],
      "metadata": {
        "id": "7jug3XQcbduW"
      },
      "execution_count": null,
      "outputs": []
    },
    {
      "cell_type": "markdown",
      "source": [
        "# Scatter Plot: Predicted vs Actual Prices"
      ],
      "metadata": {
        "id": "N39d_W3Zc7bA"
      }
    },
    {
      "cell_type": "code",
      "source": [
        "plt.scatter(y_test, y_pred, alpha=0.3)\n",
        "plt.xlabel(\"Həqiqi Qiymət\")\n",
        "plt.ylabel(\"Proqnoz Qiymət\")\n",
        "plt.title(\"Model Nəticəsi: Həqiqi vs Proqnoz\")\n",
        "plt.plot([y_test.min(), y_test.max()], [y_test.min(), y_test.max()], 'r--')\n",
        "plt.show()"
      ],
      "metadata": {
        "id": "Cn9oXniXLqg8"
      },
      "execution_count": null,
      "outputs": []
    },
    {
      "cell_type": "code",
      "source": [],
      "metadata": {
        "id": "6Ojm-9e_ak9W"
      },
      "execution_count": null,
      "outputs": []
    }
  ]
}